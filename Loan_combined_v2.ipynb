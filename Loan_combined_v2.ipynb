{
  "nbformat": 4,
  "nbformat_minor": 0,
  "metadata": {
    "colab": {
      "name": "Loan_combined_v1.ipynb",
      "version": "0.3.2",
      "provenance": [],
      "collapsed_sections": []
    },
    "language_info": {
      "codemirror_mode": {
        "name": "ipython",
        "version": 3
      },
      "file_extension": ".py",
      "mimetype": "text/x-python",
      "name": "python",
      "nbconvert_exporter": "python",
      "pygments_lexer": "ipython3",
      "version": "3.6.0"
    },
    "kernelspec": {
      "name": "python3",
      "display_name": "Python 3"
    },
    "accelerator": "GPU"
  },
  "cells": [
    {
      "metadata": {
        "colab_type": "code",
        "id": "Hhg2WMA_1Arz",
        "colab": {}
      },
      "cell_type": "code",
      "source": [
        "# import xgboost \n",
        "import pandas as pd\n",
        "import numpy as np\n",
        "import re\n",
        "from dateutil.relativedelta import relativedelta"
      ],
      "execution_count": 0,
      "outputs": []
    },
    {
      "metadata": {
        "id": "nf7WtcL0djAl",
        "colab_type": "code",
        "colab": {
          "base_uri": "https://localhost:8080/",
          "height": 128
        },
        "outputId": "fa7f5a96-149f-465f-f97f-41e5e8213423"
      },
      "cell_type": "code",
      "source": [
        "from google.colab import drive\n",
        "drive.mount('/content/drive')"
      ],
      "execution_count": 3,
      "outputs": [
        {
          "output_type": "stream",
          "text": [
            "Go to this URL in a browser: https://accounts.google.com/o/oauth2/auth?client_id=947318989803-6bn6qk8qdgf4n4g3pfee6491hc0brc4i.apps.googleusercontent.com&redirect_uri=urn%3Aietf%3Awg%3Aoauth%3A2.0%3Aoob&scope=email%20https%3A%2F%2Fwww.googleapis.com%2Fauth%2Fdocs.test%20https%3A%2F%2Fwww.googleapis.com%2Fauth%2Fdrive%20https%3A%2F%2Fwww.googleapis.com%2Fauth%2Fdrive.photos.readonly%20https%3A%2F%2Fwww.googleapis.com%2Fauth%2Fpeopleapi.readonly&response_type=code\n",
            "\n",
            "Enter your authorization code:\n",
            "··········\n",
            "Mounted at /content/drive\n"
          ],
          "name": "stdout"
        }
      ]
    },
    {
      "metadata": {
        "colab_type": "code",
        "id": "ZKThEdoC1IE3",
        "outputId": "1fc26453-d571-4a11-e986-242dbba81876",
        "colab": {
          "base_uri": "https://localhost:8080/",
          "height": 72
        }
      },
      "cell_type": "code",
      "source": [
        "!ls \"/content/drive/My Drive/loan_prediction\""
      ],
      "execution_count": 66,
      "outputs": [
        {
          "output_type": "stream",
          "text": [
            "'Data Dictionary.xlsx'\t     predicted_train.pkl      submission.pkl   xgb2.csv\n",
            " feature_importance.csv      sample_submission1.csv   test.csv\n",
            " feature_importance.gsheet   sample_submission.csv    train.csv\n"
          ],
          "name": "stdout"
        }
      ]
    },
    {
      "metadata": {
        "colab_type": "code",
        "id": "U6rI9nA11AsF",
        "colab": {}
      },
      "cell_type": "code",
      "source": [
        "df= pd.read_csv(\"/content/drive/My Drive/loan_prediction/train.csv\", encoding = \"utf-8\")\n",
        "df2= pd.read_csv(\"/content/drive/My Drive/loan_prediction/test.csv\", encoding = \"utf-8\")\n",
        "df=df.replace(np.nan, 0 ,regex=True)\n",
        "df2['loan_default']=[np.nan]*len(df2)\n",
        "\n",
        "#df.shape\n",
        "#df2.shape"
      ],
      "execution_count": 0,
      "outputs": []
    },
    {
      "metadata": {
        "id": "ilsXhII6cubW",
        "colab_type": "code",
        "outputId": "cfdc85ab-e49e-42dc-a004-813c22b5d4ce",
        "colab": {
          "base_uri": "https://localhost:8080/",
          "height": 35
        }
      },
      "cell_type": "code",
      "source": [
        "dataset = pd.concat(objs=[df, df2], axis=0,sort=False).reset_index(drop=True)\n",
        "dataset.shape"
      ],
      "execution_count": 5,
      "outputs": [
        {
          "output_type": "execute_result",
          "data": {
            "text/plain": [
              "(345546, 41)"
            ]
          },
          "metadata": {
            "tags": []
          },
          "execution_count": 5
        }
      ]
    },
    {
      "metadata": {
        "id": "ru8Vcqv_cube",
        "colab_type": "code",
        "outputId": "a6cf2c32-ee06-4918-b014-948805cd3d81",
        "colab": {
          "base_uri": "https://localhost:8080/",
          "height": 206
        }
      },
      "cell_type": "code",
      "source": [
        "dataset['pin']=[str(s).rjust(2,'0')+str(c).rjust(4,'0') for (s,c) in zip(dataset.State_ID, dataset.Current_pincode_ID)]\n",
        "dataset['pin_f4'] = [k[:-2] for k in dataset['pin']]\n",
        "dataset[['pin','pin_f4']].head()"
      ],
      "execution_count": 182,
      "outputs": [
        {
          "output_type": "execute_result",
          "data": {
            "text/html": [
              "<div>\n",
              "<style scoped>\n",
              "    .dataframe tbody tr th:only-of-type {\n",
              "        vertical-align: middle;\n",
              "    }\n",
              "\n",
              "    .dataframe tbody tr th {\n",
              "        vertical-align: top;\n",
              "    }\n",
              "\n",
              "    .dataframe thead th {\n",
              "        text-align: right;\n",
              "    }\n",
              "</style>\n",
              "<table border=\"1\" class=\"dataframe\">\n",
              "  <thead>\n",
              "    <tr style=\"text-align: right;\">\n",
              "      <th></th>\n",
              "      <th>pin</th>\n",
              "      <th>pin_f4</th>\n",
              "    </tr>\n",
              "  </thead>\n",
              "  <tbody>\n",
              "    <tr>\n",
              "      <th>0</th>\n",
              "      <td>061441</td>\n",
              "      <td>0614</td>\n",
              "    </tr>\n",
              "    <tr>\n",
              "      <th>1</th>\n",
              "      <td>061502</td>\n",
              "      <td>0615</td>\n",
              "    </tr>\n",
              "    <tr>\n",
              "      <th>2</th>\n",
              "      <td>061497</td>\n",
              "      <td>0614</td>\n",
              "    </tr>\n",
              "    <tr>\n",
              "      <th>3</th>\n",
              "      <td>061501</td>\n",
              "      <td>0615</td>\n",
              "    </tr>\n",
              "    <tr>\n",
              "      <th>4</th>\n",
              "      <td>061495</td>\n",
              "      <td>0614</td>\n",
              "    </tr>\n",
              "  </tbody>\n",
              "</table>\n",
              "</div>"
            ],
            "text/plain": [
              "      pin pin_f4\n",
              "0  061441   0614\n",
              "1  061502   0615\n",
              "2  061497   0614\n",
              "3  061501   0615\n",
              "4  061495   0614"
            ]
          },
          "metadata": {
            "tags": []
          },
          "execution_count": 182
        }
      ]
    },
    {
      "metadata": {
        "id": "cnC5KfXpcubk",
        "colab_type": "code",
        "outputId": "8664f3ea-20f6-4782-aa61-6bc2c8a7445c",
        "colab": {
          "base_uri": "https://localhost:8080/",
          "height": 255
        }
      },
      "cell_type": "code",
      "source": [
        "group_cns  = dataset.groupby(['pin_f4','branch_id']).agg({'PERFORM_CNS.SCORE': ['mean']})\n",
        "group_cns.columns = [\"_\".join(x) for x in group_cns.columns.ravel()]\n",
        "group_cns= group_cns.reset_index()\n",
        "group_cns.head()\n",
        "dataset = pd.merge(dataset, group_cns,  how='left', left_on=['pin_f4','branch_id'], right_on = ['pin_f4','branch_id'])\n",
        "dataset['PERFORM_CNS.SCORE_modified'] = np.where(dataset['PERFORM_CNS.SCORE']>=300, dataset['PERFORM_CNS.SCORE'], dataset['PERFORM_CNS.SCORE_mean'])\n",
        "dataset['PERFORM_CNS.SCORE_flag'] = np.where(dataset['PERFORM_CNS.SCORE']>=300, 1, 0)\n",
        "dataset.drop([\"PERFORM_CNS.SCORE.DESCRIPTION\",\"PERFORM_CNS.SCORE\",'PERFORM_CNS.SCORE_mean'],1,inplace=True)\n",
        "dataset.head()"
      ],
      "execution_count": 183,
      "outputs": [
        {
          "output_type": "execute_result",
          "data": {
            "text/html": [
              "<div>\n",
              "<style scoped>\n",
              "    .dataframe tbody tr th:only-of-type {\n",
              "        vertical-align: middle;\n",
              "    }\n",
              "\n",
              "    .dataframe tbody tr th {\n",
              "        vertical-align: top;\n",
              "    }\n",
              "\n",
              "    .dataframe thead th {\n",
              "        text-align: right;\n",
              "    }\n",
              "</style>\n",
              "<table border=\"1\" class=\"dataframe\">\n",
              "  <thead>\n",
              "    <tr style=\"text-align: right;\">\n",
              "      <th></th>\n",
              "      <th>UniqueID</th>\n",
              "      <th>disbursed_amount</th>\n",
              "      <th>asset_cost</th>\n",
              "      <th>ltv</th>\n",
              "      <th>branch_id</th>\n",
              "      <th>supplier_id</th>\n",
              "      <th>manufacturer_id</th>\n",
              "      <th>Current_pincode_ID</th>\n",
              "      <th>Date.of.Birth</th>\n",
              "      <th>Employment.Type</th>\n",
              "      <th>...</th>\n",
              "      <th>NEW.ACCTS.IN.LAST.SIX.MONTHS</th>\n",
              "      <th>DELINQUENT.ACCTS.IN.LAST.SIX.MONTHS</th>\n",
              "      <th>AVERAGE.ACCT.AGE</th>\n",
              "      <th>CREDIT.HISTORY.LENGTH</th>\n",
              "      <th>NO.OF_INQUIRIES</th>\n",
              "      <th>loan_default</th>\n",
              "      <th>pin</th>\n",
              "      <th>pin_f4</th>\n",
              "      <th>PERFORM_CNS.SCORE_modified</th>\n",
              "      <th>PERFORM_CNS.SCORE_flag</th>\n",
              "    </tr>\n",
              "  </thead>\n",
              "  <tbody>\n",
              "    <tr>\n",
              "      <th>0</th>\n",
              "      <td>420825</td>\n",
              "      <td>50578</td>\n",
              "      <td>58400</td>\n",
              "      <td>89.55</td>\n",
              "      <td>67</td>\n",
              "      <td>22807</td>\n",
              "      <td>45</td>\n",
              "      <td>1441</td>\n",
              "      <td>01-01-84</td>\n",
              "      <td>Salaried</td>\n",
              "      <td>...</td>\n",
              "      <td>0</td>\n",
              "      <td>0</td>\n",
              "      <td>0yrs 0mon</td>\n",
              "      <td>0yrs 0mon</td>\n",
              "      <td>0</td>\n",
              "      <td>0.0</td>\n",
              "      <td>061441</td>\n",
              "      <td>0614</td>\n",
              "      <td>320.942787</td>\n",
              "      <td>0</td>\n",
              "    </tr>\n",
              "    <tr>\n",
              "      <th>1</th>\n",
              "      <td>537409</td>\n",
              "      <td>47145</td>\n",
              "      <td>65550</td>\n",
              "      <td>73.23</td>\n",
              "      <td>67</td>\n",
              "      <td>22807</td>\n",
              "      <td>45</td>\n",
              "      <td>1502</td>\n",
              "      <td>31-07-85</td>\n",
              "      <td>Self employed</td>\n",
              "      <td>...</td>\n",
              "      <td>0</td>\n",
              "      <td>1</td>\n",
              "      <td>1yrs 11mon</td>\n",
              "      <td>1yrs 11mon</td>\n",
              "      <td>0</td>\n",
              "      <td>1.0</td>\n",
              "      <td>061502</td>\n",
              "      <td>0615</td>\n",
              "      <td>598.000000</td>\n",
              "      <td>1</td>\n",
              "    </tr>\n",
              "    <tr>\n",
              "      <th>2</th>\n",
              "      <td>417566</td>\n",
              "      <td>53278</td>\n",
              "      <td>61360</td>\n",
              "      <td>89.63</td>\n",
              "      <td>67</td>\n",
              "      <td>22807</td>\n",
              "      <td>45</td>\n",
              "      <td>1497</td>\n",
              "      <td>24-08-85</td>\n",
              "      <td>Self employed</td>\n",
              "      <td>...</td>\n",
              "      <td>0</td>\n",
              "      <td>0</td>\n",
              "      <td>0yrs 0mon</td>\n",
              "      <td>0yrs 0mon</td>\n",
              "      <td>0</td>\n",
              "      <td>0.0</td>\n",
              "      <td>061497</td>\n",
              "      <td>0614</td>\n",
              "      <td>320.942787</td>\n",
              "      <td>0</td>\n",
              "    </tr>\n",
              "    <tr>\n",
              "      <th>3</th>\n",
              "      <td>624493</td>\n",
              "      <td>57513</td>\n",
              "      <td>66113</td>\n",
              "      <td>88.48</td>\n",
              "      <td>67</td>\n",
              "      <td>22807</td>\n",
              "      <td>45</td>\n",
              "      <td>1501</td>\n",
              "      <td>30-12-93</td>\n",
              "      <td>Self employed</td>\n",
              "      <td>...</td>\n",
              "      <td>0</td>\n",
              "      <td>0</td>\n",
              "      <td>0yrs 8mon</td>\n",
              "      <td>1yrs 3mon</td>\n",
              "      <td>1</td>\n",
              "      <td>1.0</td>\n",
              "      <td>061501</td>\n",
              "      <td>0615</td>\n",
              "      <td>305.000000</td>\n",
              "      <td>1</td>\n",
              "    </tr>\n",
              "    <tr>\n",
              "      <th>4</th>\n",
              "      <td>539055</td>\n",
              "      <td>52378</td>\n",
              "      <td>60300</td>\n",
              "      <td>88.39</td>\n",
              "      <td>67</td>\n",
              "      <td>22807</td>\n",
              "      <td>45</td>\n",
              "      <td>1495</td>\n",
              "      <td>09-12-77</td>\n",
              "      <td>Self employed</td>\n",
              "      <td>...</td>\n",
              "      <td>0</td>\n",
              "      <td>0</td>\n",
              "      <td>0yrs 0mon</td>\n",
              "      <td>0yrs 0mon</td>\n",
              "      <td>1</td>\n",
              "      <td>1.0</td>\n",
              "      <td>061495</td>\n",
              "      <td>0614</td>\n",
              "      <td>320.942787</td>\n",
              "      <td>0</td>\n",
              "    </tr>\n",
              "  </tbody>\n",
              "</table>\n",
              "<p>5 rows × 43 columns</p>\n",
              "</div>"
            ],
            "text/plain": [
              "   UniqueID  disbursed_amount  asset_cost    ltv  branch_id  supplier_id  \\\n",
              "0    420825             50578       58400  89.55         67        22807   \n",
              "1    537409             47145       65550  73.23         67        22807   \n",
              "2    417566             53278       61360  89.63         67        22807   \n",
              "3    624493             57513       66113  88.48         67        22807   \n",
              "4    539055             52378       60300  88.39         67        22807   \n",
              "\n",
              "   manufacturer_id  Current_pincode_ID Date.of.Birth Employment.Type  \\\n",
              "0               45                1441      01-01-84        Salaried   \n",
              "1               45                1502      31-07-85   Self employed   \n",
              "2               45                1497      24-08-85   Self employed   \n",
              "3               45                1501      30-12-93   Self employed   \n",
              "4               45                1495      09-12-77   Self employed   \n",
              "\n",
              "            ...           NEW.ACCTS.IN.LAST.SIX.MONTHS  \\\n",
              "0           ...                                      0   \n",
              "1           ...                                      0   \n",
              "2           ...                                      0   \n",
              "3           ...                                      0   \n",
              "4           ...                                      0   \n",
              "\n",
              "   DELINQUENT.ACCTS.IN.LAST.SIX.MONTHS  AVERAGE.ACCT.AGE  \\\n",
              "0                                    0         0yrs 0mon   \n",
              "1                                    1        1yrs 11mon   \n",
              "2                                    0         0yrs 0mon   \n",
              "3                                    0         0yrs 8mon   \n",
              "4                                    0         0yrs 0mon   \n",
              "\n",
              "   CREDIT.HISTORY.LENGTH  NO.OF_INQUIRIES  loan_default     pin  pin_f4  \\\n",
              "0              0yrs 0mon                0           0.0  061441    0614   \n",
              "1             1yrs 11mon                0           1.0  061502    0615   \n",
              "2              0yrs 0mon                0           0.0  061497    0614   \n",
              "3              1yrs 3mon                1           1.0  061501    0615   \n",
              "4              0yrs 0mon                1           1.0  061495    0614   \n",
              "\n",
              "   PERFORM_CNS.SCORE_modified  PERFORM_CNS.SCORE_flag  \n",
              "0                  320.942787                       0  \n",
              "1                  598.000000                       1  \n",
              "2                  320.942787                       0  \n",
              "3                  305.000000                       1  \n",
              "4                  320.942787                       0  \n",
              "\n",
              "[5 rows x 43 columns]"
            ]
          },
          "metadata": {
            "tags": []
          },
          "execution_count": 183
        }
      ]
    },
    {
      "metadata": {
        "id": "97hZIyvTcubr",
        "colab_type": "code",
        "colab": {}
      },
      "cell_type": "code",
      "source": [
        "# dataset.drop([\"PERFORM_CNS.SCORE.DESCRIPTION\",\"PERFORM_CNS.SCORE\"],1,inplace=True)"
      ],
      "execution_count": 0,
      "outputs": []
    },
    {
      "metadata": {
        "id": "_WGdFUt0cubw",
        "colab_type": "code",
        "colab": {}
      },
      "cell_type": "code",
      "source": [
        "# dataset['pin'].unique().shape"
      ],
      "execution_count": 0,
      "outputs": []
    },
    {
      "metadata": {
        "colab_type": "code",
        "id": "ipNe5nhF1AsL",
        "scrolled": true,
        "colab": {}
      },
      "cell_type": "code",
      "source": [
        "# dataset=dataset.replace(np.nan, 0 ,regex=True)\n",
        "# dataset.head()\n"
      ],
      "execution_count": 0,
      "outputs": []
    },
    {
      "metadata": {
        "id": "T-H7ZEM_cucF",
        "colab_type": "code",
        "outputId": "90d13763-54d3-422a-8389-884703f874c2",
        "colab": {
          "base_uri": "https://localhost:8080/",
          "height": 255
        }
      },
      "cell_type": "code",
      "source": [
        "group_b_m = dataset.groupby(['branch_id','manufacturer_id']).agg({'ltv': ['mean', 'median'], 'loan_default': ['sum','mean']})\n",
        "group_b_m = group_b_m.reset_index()\n",
        "group_b_m.columns = [\"_b_m_\".join(x) for x in group_b_m.columns.ravel()]\n",
        "dataset = pd.merge(dataset, group_b_m,  how='left', left_on=['branch_id','manufacturer_id'], right_on = ['branch_id_b_m_','manufacturer_id_b_m_'])\n",
        "dataset.head()"
      ],
      "execution_count": 186,
      "outputs": [
        {
          "output_type": "execute_result",
          "data": {
            "text/html": [
              "<div>\n",
              "<style scoped>\n",
              "    .dataframe tbody tr th:only-of-type {\n",
              "        vertical-align: middle;\n",
              "    }\n",
              "\n",
              "    .dataframe tbody tr th {\n",
              "        vertical-align: top;\n",
              "    }\n",
              "\n",
              "    .dataframe thead th {\n",
              "        text-align: right;\n",
              "    }\n",
              "</style>\n",
              "<table border=\"1\" class=\"dataframe\">\n",
              "  <thead>\n",
              "    <tr style=\"text-align: right;\">\n",
              "      <th></th>\n",
              "      <th>UniqueID</th>\n",
              "      <th>disbursed_amount</th>\n",
              "      <th>asset_cost</th>\n",
              "      <th>ltv</th>\n",
              "      <th>branch_id</th>\n",
              "      <th>supplier_id</th>\n",
              "      <th>manufacturer_id</th>\n",
              "      <th>Current_pincode_ID</th>\n",
              "      <th>Date.of.Birth</th>\n",
              "      <th>Employment.Type</th>\n",
              "      <th>...</th>\n",
              "      <th>pin</th>\n",
              "      <th>pin_f4</th>\n",
              "      <th>PERFORM_CNS.SCORE_modified</th>\n",
              "      <th>PERFORM_CNS.SCORE_flag</th>\n",
              "      <th>branch_id_b_m_</th>\n",
              "      <th>manufacturer_id_b_m_</th>\n",
              "      <th>ltv_b_m_mean</th>\n",
              "      <th>ltv_b_m_median</th>\n",
              "      <th>loan_default_b_m_sum</th>\n",
              "      <th>loan_default_b_m_mean</th>\n",
              "    </tr>\n",
              "  </thead>\n",
              "  <tbody>\n",
              "    <tr>\n",
              "      <th>0</th>\n",
              "      <td>420825</td>\n",
              "      <td>50578</td>\n",
              "      <td>58400</td>\n",
              "      <td>89.55</td>\n",
              "      <td>67</td>\n",
              "      <td>22807</td>\n",
              "      <td>45</td>\n",
              "      <td>1441</td>\n",
              "      <td>01-01-84</td>\n",
              "      <td>Salaried</td>\n",
              "      <td>...</td>\n",
              "      <td>061441</td>\n",
              "      <td>0614</td>\n",
              "      <td>320.942787</td>\n",
              "      <td>0</td>\n",
              "      <td>67</td>\n",
              "      <td>45</td>\n",
              "      <td>78.467123</td>\n",
              "      <td>81.07</td>\n",
              "      <td>859.0</td>\n",
              "      <td>0.206988</td>\n",
              "    </tr>\n",
              "    <tr>\n",
              "      <th>1</th>\n",
              "      <td>537409</td>\n",
              "      <td>47145</td>\n",
              "      <td>65550</td>\n",
              "      <td>73.23</td>\n",
              "      <td>67</td>\n",
              "      <td>22807</td>\n",
              "      <td>45</td>\n",
              "      <td>1502</td>\n",
              "      <td>31-07-85</td>\n",
              "      <td>Self employed</td>\n",
              "      <td>...</td>\n",
              "      <td>061502</td>\n",
              "      <td>0615</td>\n",
              "      <td>598.000000</td>\n",
              "      <td>1</td>\n",
              "      <td>67</td>\n",
              "      <td>45</td>\n",
              "      <td>78.467123</td>\n",
              "      <td>81.07</td>\n",
              "      <td>859.0</td>\n",
              "      <td>0.206988</td>\n",
              "    </tr>\n",
              "    <tr>\n",
              "      <th>2</th>\n",
              "      <td>417566</td>\n",
              "      <td>53278</td>\n",
              "      <td>61360</td>\n",
              "      <td>89.63</td>\n",
              "      <td>67</td>\n",
              "      <td>22807</td>\n",
              "      <td>45</td>\n",
              "      <td>1497</td>\n",
              "      <td>24-08-85</td>\n",
              "      <td>Self employed</td>\n",
              "      <td>...</td>\n",
              "      <td>061497</td>\n",
              "      <td>0614</td>\n",
              "      <td>320.942787</td>\n",
              "      <td>0</td>\n",
              "      <td>67</td>\n",
              "      <td>45</td>\n",
              "      <td>78.467123</td>\n",
              "      <td>81.07</td>\n",
              "      <td>859.0</td>\n",
              "      <td>0.206988</td>\n",
              "    </tr>\n",
              "    <tr>\n",
              "      <th>3</th>\n",
              "      <td>624493</td>\n",
              "      <td>57513</td>\n",
              "      <td>66113</td>\n",
              "      <td>88.48</td>\n",
              "      <td>67</td>\n",
              "      <td>22807</td>\n",
              "      <td>45</td>\n",
              "      <td>1501</td>\n",
              "      <td>30-12-93</td>\n",
              "      <td>Self employed</td>\n",
              "      <td>...</td>\n",
              "      <td>061501</td>\n",
              "      <td>0615</td>\n",
              "      <td>305.000000</td>\n",
              "      <td>1</td>\n",
              "      <td>67</td>\n",
              "      <td>45</td>\n",
              "      <td>78.467123</td>\n",
              "      <td>81.07</td>\n",
              "      <td>859.0</td>\n",
              "      <td>0.206988</td>\n",
              "    </tr>\n",
              "    <tr>\n",
              "      <th>4</th>\n",
              "      <td>539055</td>\n",
              "      <td>52378</td>\n",
              "      <td>60300</td>\n",
              "      <td>88.39</td>\n",
              "      <td>67</td>\n",
              "      <td>22807</td>\n",
              "      <td>45</td>\n",
              "      <td>1495</td>\n",
              "      <td>09-12-77</td>\n",
              "      <td>Self employed</td>\n",
              "      <td>...</td>\n",
              "      <td>061495</td>\n",
              "      <td>0614</td>\n",
              "      <td>320.942787</td>\n",
              "      <td>0</td>\n",
              "      <td>67</td>\n",
              "      <td>45</td>\n",
              "      <td>78.467123</td>\n",
              "      <td>81.07</td>\n",
              "      <td>859.0</td>\n",
              "      <td>0.206988</td>\n",
              "    </tr>\n",
              "  </tbody>\n",
              "</table>\n",
              "<p>5 rows × 49 columns</p>\n",
              "</div>"
            ],
            "text/plain": [
              "   UniqueID  disbursed_amount  asset_cost    ltv  branch_id  supplier_id  \\\n",
              "0    420825             50578       58400  89.55         67        22807   \n",
              "1    537409             47145       65550  73.23         67        22807   \n",
              "2    417566             53278       61360  89.63         67        22807   \n",
              "3    624493             57513       66113  88.48         67        22807   \n",
              "4    539055             52378       60300  88.39         67        22807   \n",
              "\n",
              "   manufacturer_id  Current_pincode_ID Date.of.Birth Employment.Type  \\\n",
              "0               45                1441      01-01-84        Salaried   \n",
              "1               45                1502      31-07-85   Self employed   \n",
              "2               45                1497      24-08-85   Self employed   \n",
              "3               45                1501      30-12-93   Self employed   \n",
              "4               45                1495      09-12-77   Self employed   \n",
              "\n",
              "           ...               pin  pin_f4  PERFORM_CNS.SCORE_modified  \\\n",
              "0          ...            061441    0614                  320.942787   \n",
              "1          ...            061502    0615                  598.000000   \n",
              "2          ...            061497    0614                  320.942787   \n",
              "3          ...            061501    0615                  305.000000   \n",
              "4          ...            061495    0614                  320.942787   \n",
              "\n",
              "   PERFORM_CNS.SCORE_flag  branch_id_b_m_  manufacturer_id_b_m_  ltv_b_m_mean  \\\n",
              "0                       0              67                    45     78.467123   \n",
              "1                       1              67                    45     78.467123   \n",
              "2                       0              67                    45     78.467123   \n",
              "3                       1              67                    45     78.467123   \n",
              "4                       0              67                    45     78.467123   \n",
              "\n",
              "   ltv_b_m_median  loan_default_b_m_sum  loan_default_b_m_mean  \n",
              "0           81.07                 859.0               0.206988  \n",
              "1           81.07                 859.0               0.206988  \n",
              "2           81.07                 859.0               0.206988  \n",
              "3           81.07                 859.0               0.206988  \n",
              "4           81.07                 859.0               0.206988  \n",
              "\n",
              "[5 rows x 49 columns]"
            ]
          },
          "metadata": {
            "tags": []
          },
          "execution_count": 186
        }
      ]
    },
    {
      "metadata": {
        "colab_type": "code",
        "id": "0HGdwbsYbkrx",
        "colab": {}
      },
      "cell_type": "code",
      "source": [
        "group_branch = dataset.groupby('branch_id').agg({'ltv': ['mean', 'median'], 'loan_default': ['sum','mean'], 'supplier_id':['count'], 'UniqueID':['count']})\n",
        "group_branch.columns = [\"_branch_\".join(x) for x in group_branch.columns.ravel()]\n",
        "group_branch= group_branch.reset_index()\n",
        "dataset = pd.merge(dataset, group_branch,  how='left', left_on=['branch_id'], right_on = ['branch_id'])"
      ],
      "execution_count": 0,
      "outputs": []
    },
    {
      "metadata": {
        "colab_type": "code",
        "id": "sfoEzlZCdCjC",
        "colab": {}
      },
      "cell_type": "code",
      "source": [
        "group_manuf = dataset.groupby('manufacturer_id').agg({'supplier_id': ['count'], 'loan_default': ['sum','mean'], 'branch_id':['count'], 'UniqueID':['count']})\n",
        "group_manuf.columns = [\"_manuf_\".join(x) for x in group_manuf.columns.ravel()]\n",
        "group_manuf= group_manuf.reset_index()\n",
        "dataset = pd.merge(dataset, group_manuf,  how='left', left_on=['manufacturer_id'], right_on = ['manufacturer_id'])"
      ],
      "execution_count": 0,
      "outputs": []
    },
    {
      "metadata": {
        "id": "cspJlFCncucY",
        "colab_type": "code",
        "colab": {}
      },
      "cell_type": "code",
      "source": [
        "group_pin = dataset.groupby('pin').agg({'supplier_id': ['count'], 'loan_default': ['sum','mean'], 'branch_id':['count'], 'UniqueID':['count']})\n",
        "group_pin.columns = [\"_pin_\".join(x) for x in group_pin.columns.ravel()]\n",
        "group_pin= group_pin.reset_index()\n",
        "dataset = pd.merge(dataset, group_pin,  how='left', left_on=['pin'], right_on = ['pin'])"
      ],
      "execution_count": 0,
      "outputs": []
    },
    {
      "metadata": {
        "id": "LHBjuQiqcucb",
        "colab_type": "code",
        "colab": {}
      },
      "cell_type": "code",
      "source": [
        "group_pin_f4 = dataset.groupby('pin_f4').agg({'supplier_id': ['count'], 'loan_default': ['sum','mean'], 'branch_id':['count'], 'UniqueID':['count']})\n",
        "group_pin_f4.columns = [\"_pin_f4_\".join(x) for x in group_pin_f4.columns.ravel()]\n",
        "group_pin_f4= group_pin_f4.reset_index()\n",
        "dataset = pd.merge(dataset, group_pin_f4,  how='left', left_on=['pin_f4'], right_on = ['pin_f4'])"
      ],
      "execution_count": 0,
      "outputs": []
    },
    {
      "metadata": {
        "colab_type": "code",
        "id": "neY73MsV1AsU",
        "colab": {}
      },
      "cell_type": "code",
      "source": [
        "# df2=df2.replace(np.nan, 0 ,regex=True)\n",
        "# df2.tail()\n"
      ],
      "execution_count": 0,
      "outputs": []
    },
    {
      "metadata": {
        "colab_type": "code",
        "id": "39mIU6XC1Asa",
        "colab": {}
      },
      "cell_type": "code",
      "source": [
        "# train_objs_num = len(df)\n",
        "# dataset = pd.concat(objs=[df, df2], axis=0,sort=False).reset_index(drop=True)"
      ],
      "execution_count": 0,
      "outputs": []
    },
    {
      "metadata": {
        "colab_type": "code",
        "id": "n46jmVa51AtU",
        "colab": {}
      },
      "cell_type": "code",
      "source": [
        "def f(end):\n",
        "    r = relativedelta(pd.to_datetime('now'), end) \n",
        "    return r.years\n",
        "\n"
      ],
      "execution_count": 0,
      "outputs": []
    },
    {
      "metadata": {
        "colab_type": "code",
        "id": "Pt8cW7ol1Asf",
        "colab": {}
      },
      "cell_type": "code",
      "source": [
        "dataset[['A_Year', 'A_Month']] = dataset['AVERAGE.ACCT.AGE'].str.extractall('(\\d+)').unstack().loc[:,0]\n",
        "dataset[['H_Year', 'H_Month']] = dataset['CREDIT.HISTORY.LENGTH'].str.extractall('(\\d+)').unstack().loc[:,0]\n",
        "dataset['A_Month'] =dataset['A_Year'].astype(np.int64)*12 + dataset['A_Month'].astype(np.int64)\n",
        "dataset['H_Month'] =dataset['H_Year'].astype(np.int64)*12 + dataset['H_Month'].astype(np.int64)\n",
        "\n",
        "dataset['ltv_to_asset_cost_ratio']=dataset['ltv']/dataset['asset_cost']\n",
        "\n",
        "dataset['Date.of.Birth']=pd.to_datetime(dataset['Date.of.Birth'])\n",
        "\n",
        "def f(end):\n",
        "    r = relativedelta(pd.to_datetime('now'), end) \n",
        "    return r.years\n",
        "\n",
        "dataset['Age_tillNow'] = dataset[\"Date.of.Birth\"].apply(f)\n",
        "dataset['Age_tillDisbursal'] = (pd.to_datetime(dataset['DisbursalDate'])-pd.to_datetime(dataset[\"Date.of.Birth\"])).astype('timedelta64[M]')/12\n",
        "\n",
        "\n",
        "dataset= pd.get_dummies(dataset, columns=[\"Employment.Type\"])\n",
        "\n",
        "# dataset= pd.get_dummies(dataset, columns=[\"PERFORM_CNS.SCORE.DESCRIPTION\"])\n",
        "\n",
        "\n",
        "list = ['Date.of.Birth','A_Year','H_Year','AVERAGE.ACCT.AGE','CREDIT.HISTORY.LENGTH','DisbursalDate']\n",
        "\n",
        "\n",
        "dataset['Tot.Inst'] = dataset['PRIMARY.INSTAL.AMT']+dataset['SEC.INSTAL.AMT']\n",
        "dataset['Tot.Amt.Sct'] = dataset['PRI.SANCTIONED.AMOUNT']+dataset['SEC.SANCTIONED.AMOUNT']\n",
        "dataset['Tot.Amt.Dst'] = dataset['PRI.DISBURSED.AMOUNT']+dataset['SEC.DISBURSED.AMOUNT']\n",
        "dataset['Tot.Loans'] = dataset['PRI.NO.OF.ACCTS']+dataset['SEC.NO.OF.ACCTS']\n",
        "dataset['Tot.Act.Loans'] = dataset['PRI.ACTIVE.ACCTS']+dataset['SEC.ACTIVE.ACCTS']\n",
        "dataset['Tot.Due.Loans'] = dataset['PRI.OVERDUE.ACCTS']+dataset['SEC.OVERDUE.ACCTS']\n",
        "dataset['Kyc_flag'] = dataset['Aadhar_flag']+dataset['Driving_flag']+dataset['MobileNo_Avl_Flag']+dataset['PAN_flag']+dataset['Passport_flag']+dataset['VoterID_flag']\n",
        "dataset['Tot.Outsanding.Amt'] = dataset['PRI.CURRENT.BALANCE']+dataset['SEC.CURRENT.BALANCE']\n",
        "\n",
        "\n",
        "dataset = dataset.drop(axis=1, labels=list)\n",
        "# dataset.columns.get_loc(\"loan_default\")"
      ],
      "execution_count": 0,
      "outputs": []
    },
    {
      "metadata": {
        "id": "yIdJU7-3RNhR",
        "colab_type": "code",
        "colab": {}
      },
      "cell_type": "code",
      "source": [
        "train = dataset[:len(df)]\n",
        "test = dataset[len(df):]\n",
        "train.to_csv('/content/drive/My Drive/loan_prediction/train_dataset.csv',index=False)\n",
        "test.to_csv('/content/drive/My Drive/loan_prediction/test_dataset.csv',index=False)"
      ],
      "execution_count": 0,
      "outputs": []
    },
    {
      "metadata": {
        "id": "HE5G6kqecuc6",
        "colab_type": "code",
        "colab": {}
      },
      "cell_type": "code",
      "source": [
        "# dataset.columns.to_list() \n",
        "cols_to_drop = ['UniqueID','branch_id','supplier_id','manufacturer_id','Current_pincode_ID','Employee_code_ID','pin',\n",
        "                'branch_id_b_m_','manufacturer_id_b_m_']\n",
        "\n",
        "#'loan_default_pin_mean'\n",
        "\n",
        "\n",
        "dataset.drop(cols_to_drop,1,inplace=True)\n"
      ],
      "execution_count": 0,
      "outputs": []
    },
    {
      "metadata": {
        "id": "I9kqF9_ucuc_",
        "colab_type": "code",
        "colab": {
          "base_uri": "https://localhost:8080/",
          "height": 1416
        },
        "outputId": "934d5e7c-52c7-4ff2-9144-c5b54510b811"
      },
      "cell_type": "code",
      "source": [
        " dataset.info()"
      ],
      "execution_count": 37,
      "outputs": [
        {
          "output_type": "stream",
          "text": [
            "<class 'pandas.core.frame.DataFrame'>\n",
            "Int64Index: 345546 entries, 0 to 345545\n",
            "Data columns (total 72 columns):\n",
            "disbursed_amount                       345546 non-null int64\n",
            "asset_cost                             345546 non-null int64\n",
            "ltv                                    345546 non-null float64\n",
            "State_ID                               345546 non-null category\n",
            "MobileNo_Avl_Flag                      345546 non-null int64\n",
            "Aadhar_flag                            345546 non-null int64\n",
            "PAN_flag                               345546 non-null int64\n",
            "VoterID_flag                           345546 non-null int64\n",
            "Driving_flag                           345546 non-null int64\n",
            "Passport_flag                          345546 non-null int64\n",
            "PRI.NO.OF.ACCTS                        345546 non-null int64\n",
            "PRI.ACTIVE.ACCTS                       345546 non-null int64\n",
            "PRI.OVERDUE.ACCTS                      345546 non-null int64\n",
            "PRI.CURRENT.BALANCE                    345546 non-null int64\n",
            "PRI.SANCTIONED.AMOUNT                  345546 non-null int64\n",
            "PRI.DISBURSED.AMOUNT                   345546 non-null int64\n",
            "SEC.NO.OF.ACCTS                        345546 non-null int64\n",
            "SEC.ACTIVE.ACCTS                       345546 non-null int64\n",
            "SEC.OVERDUE.ACCTS                      345546 non-null int64\n",
            "SEC.CURRENT.BALANCE                    345546 non-null int64\n",
            "SEC.SANCTIONED.AMOUNT                  345546 non-null int64\n",
            "SEC.DISBURSED.AMOUNT                   345546 non-null int64\n",
            "PRIMARY.INSTAL.AMT                     345546 non-null int64\n",
            "SEC.INSTAL.AMT                         345546 non-null int64\n",
            "NEW.ACCTS.IN.LAST.SIX.MONTHS           345546 non-null int64\n",
            "DELINQUENT.ACCTS.IN.LAST.SIX.MONTHS    345546 non-null int64\n",
            "NO.OF_INQUIRIES                        345546 non-null int64\n",
            "loan_default                           233154 non-null float64\n",
            "pin_f4                                 345546 non-null int64\n",
            "PERFORM_CNS.SCORE_modified             345546 non-null float64\n",
            "PERFORM_CNS.SCORE_flag                 345546 non-null int64\n",
            "ltv_b_m_mean                           345546 non-null float64\n",
            "ltv_b_m_median                         345546 non-null float64\n",
            "loan_default_b_m_sum                   345546 non-null float64\n",
            "loan_default_b_m_mean                  345511 non-null float64\n",
            "ltv_branch_mean                        345546 non-null float64\n",
            "ltv_branch_median                      345546 non-null float64\n",
            "loan_default_branch_sum                345546 non-null float64\n",
            "loan_default_branch_mean               345546 non-null float64\n",
            "supplier_id_branch_count               345546 non-null int64\n",
            "UniqueID_branch_count                  345546 non-null int64\n",
            "supplier_id_manuf_count                345546 non-null int64\n",
            "loan_default_manuf_sum                 345546 non-null float64\n",
            "loan_default_manuf_mean                345545 non-null float64\n",
            "branch_id_manuf_count                  345546 non-null int64\n",
            "UniqueID_manuf_count                   345546 non-null int64\n",
            "supplier_id_pin_count                  345546 non-null int64\n",
            "loan_default_pin_sum                   345546 non-null float64\n",
            "loan_default_pin_mean                  344802 non-null float64\n",
            "branch_id_pin_count                    345546 non-null int64\n",
            "UniqueID_pin_count                     345546 non-null int64\n",
            "supplier_id_pin_f4_count               345546 non-null int64\n",
            "loan_default_pin_f4_sum                345546 non-null float64\n",
            "loan_default_pin_f4_mean               345546 non-null float64\n",
            "branch_id_pin_f4_count                 345546 non-null int64\n",
            "UniqueID_pin_f4_count                  345546 non-null int64\n",
            "A_Month                                345546 non-null int64\n",
            "H_Month                                345546 non-null int64\n",
            "ltv_to_asset_cost_ratio                345546 non-null float64\n",
            "Age_tillNow                            345546 non-null int64\n",
            "Age_tillDisbursal                      345546 non-null float64\n",
            "Employment.Type_0                      345546 non-null category\n",
            "Employment.Type_Salaried               345546 non-null category\n",
            "Employment.Type_Self employed          345546 non-null category\n",
            "Tot.Inst                               345546 non-null int64\n",
            "Tot.Amt.Sct                            345546 non-null int64\n",
            "Tot.Amt.Dst                            345546 non-null int64\n",
            "Tot.Loans                              345546 non-null int64\n",
            "Tot.Act.Loans                          345546 non-null int64\n",
            "Tot.Due.Loans                          345546 non-null int64\n",
            "Kyc_flag                               345546 non-null int64\n",
            "Tot.Outsanding.Amt                     345546 non-null int64\n",
            "dtypes: category(4), float64(19), int64(49)\n",
            "memory usage: 183.2 MB\n"
          ],
          "name": "stdout"
        }
      ]
    },
    {
      "metadata": {
        "id": "-Kvs0P0rcudF",
        "colab_type": "code",
        "colab": {}
      },
      "cell_type": "code",
      "source": [
        "dataset['State_ID'] =dataset['State_ID'].astype('category',copy=False)\n",
        "dataset['pin_f4'] =dataset['pin_f4'].astype('int64',copy=False)\n",
        "dataset['Employment.Type_0'] =dataset['Employment.Type_0'].astype('category',copy=False)\n",
        "dataset['Employment.Type_Salaried'] =dataset['Employment.Type_Salaried'].astype('category',copy=False)\n",
        "dataset['Employment.Type_Self employed'] =dataset['Employment.Type_Self employed'].astype('category',copy=False)"
      ],
      "execution_count": 0,
      "outputs": []
    },
    {
      "metadata": {
        "id": "L5sKACpZcudQ",
        "colab_type": "code",
        "colab": {}
      },
      "cell_type": "code",
      "source": [
        "df = dataset[:len(df)]\n",
        "df2 = dataset[len(df):]"
      ],
      "execution_count": 0,
      "outputs": []
    },
    {
      "metadata": {
        "id": "6Gvakn3KcudT",
        "colab_type": "code",
        "colab": {}
      },
      "cell_type": "code",
      "source": [
        "#df.to_pickle('train.pkl')\n",
        "#df2.to_pickle('test.pkl')\n",
        "df_ = pd.DataFrame()\n",
        "df_.to_pickle('/content/drive/My Drive/loan_prediction/submission.pkl')\n",
        "df_.to_pickle('/content/drive/My Drive/loan_prediction/predicted_train.pkl')\n",
        "\n"
      ],
      "execution_count": 0,
      "outputs": []
    },
    {
      "metadata": {
        "id": "x6kra3B7cudX",
        "colab_type": "code",
        "colab": {}
      },
      "cell_type": "code",
      "source": [
        "#import pandas_profiling\n",
        "#pandas_profiling.ProfileReport(dataset)\n"
      ],
      "execution_count": 0,
      "outputs": []
    },
    {
      "metadata": {
        "colab_type": "code",
        "id": "NJPUaUYl1Asm",
        "colab": {}
      },
      "cell_type": "code",
      "source": [
        "# dataset= dataset.apply(pd.to_numeric)"
      ],
      "execution_count": 0,
      "outputs": []
    },
    {
      "metadata": {
        "colab_type": "code",
        "id": "9Breb-d31Asu",
        "colab": {}
      },
      "cell_type": "code",
      "source": [
        "#  df['AVERAGE.ACCT.AGE'].str.findall('\\d+')"
      ],
      "execution_count": 0,
      "outputs": []
    },
    {
      "metadata": {
        "id": "2JkNYVsqcudj",
        "colab_type": "code",
        "outputId": "27a76cef-1cb7-441b-ed6f-1798c8da8410",
        "colab": {}
      },
      "cell_type": "code",
      "source": [
        "# pd.read_pickle('train.pkl').head()"
      ],
      "execution_count": 0,
      "outputs": [
        {
          "output_type": "execute_result",
          "data": {
            "text/html": [
              "<div>\n",
              "<style scoped>\n",
              "    .dataframe tbody tr th:only-of-type {\n",
              "        vertical-align: middle;\n",
              "    }\n",
              "\n",
              "    .dataframe tbody tr th {\n",
              "        vertical-align: top;\n",
              "    }\n",
              "\n",
              "    .dataframe thead th {\n",
              "        text-align: right;\n",
              "    }\n",
              "</style>\n",
              "<table border=\"1\" class=\"dataframe\">\n",
              "  <thead>\n",
              "    <tr style=\"text-align: right;\">\n",
              "      <th></th>\n",
              "      <th>disbursed_amount</th>\n",
              "      <th>asset_cost</th>\n",
              "      <th>ltv</th>\n",
              "      <th>State_ID</th>\n",
              "      <th>MobileNo_Avl_Flag</th>\n",
              "      <th>Aadhar_flag</th>\n",
              "      <th>PAN_flag</th>\n",
              "      <th>VoterID_flag</th>\n",
              "      <th>Driving_flag</th>\n",
              "      <th>Passport_flag</th>\n",
              "      <th>...</th>\n",
              "      <th>Employment.Type_Salaried</th>\n",
              "      <th>Employment.Type_Self employed</th>\n",
              "      <th>Tot.Inst</th>\n",
              "      <th>Tot.Amt.Sct</th>\n",
              "      <th>Tot.Amt.Dst</th>\n",
              "      <th>Tot.Loans</th>\n",
              "      <th>Tot.Act.Loans</th>\n",
              "      <th>Tot.Due.Loans</th>\n",
              "      <th>Kyc_flag</th>\n",
              "      <th>Tot.Outsanding.Amt</th>\n",
              "    </tr>\n",
              "  </thead>\n",
              "  <tbody>\n",
              "    <tr>\n",
              "      <th>0</th>\n",
              "      <td>50578</td>\n",
              "      <td>58400</td>\n",
              "      <td>89.55</td>\n",
              "      <td>6</td>\n",
              "      <td>1</td>\n",
              "      <td>1</td>\n",
              "      <td>0</td>\n",
              "      <td>0</td>\n",
              "      <td>0</td>\n",
              "      <td>0</td>\n",
              "      <td>...</td>\n",
              "      <td>1</td>\n",
              "      <td>0</td>\n",
              "      <td>0</td>\n",
              "      <td>0</td>\n",
              "      <td>0</td>\n",
              "      <td>0</td>\n",
              "      <td>0</td>\n",
              "      <td>0</td>\n",
              "      <td>2</td>\n",
              "      <td>0</td>\n",
              "    </tr>\n",
              "    <tr>\n",
              "      <th>1</th>\n",
              "      <td>47145</td>\n",
              "      <td>65550</td>\n",
              "      <td>73.23</td>\n",
              "      <td>6</td>\n",
              "      <td>1</td>\n",
              "      <td>1</td>\n",
              "      <td>0</td>\n",
              "      <td>0</td>\n",
              "      <td>0</td>\n",
              "      <td>0</td>\n",
              "      <td>...</td>\n",
              "      <td>0</td>\n",
              "      <td>1</td>\n",
              "      <td>1991</td>\n",
              "      <td>50200</td>\n",
              "      <td>50200</td>\n",
              "      <td>1</td>\n",
              "      <td>1</td>\n",
              "      <td>1</td>\n",
              "      <td>2</td>\n",
              "      <td>27600</td>\n",
              "    </tr>\n",
              "    <tr>\n",
              "      <th>2</th>\n",
              "      <td>53278</td>\n",
              "      <td>61360</td>\n",
              "      <td>89.63</td>\n",
              "      <td>6</td>\n",
              "      <td>1</td>\n",
              "      <td>1</td>\n",
              "      <td>0</td>\n",
              "      <td>0</td>\n",
              "      <td>0</td>\n",
              "      <td>0</td>\n",
              "      <td>...</td>\n",
              "      <td>0</td>\n",
              "      <td>1</td>\n",
              "      <td>0</td>\n",
              "      <td>0</td>\n",
              "      <td>0</td>\n",
              "      <td>0</td>\n",
              "      <td>0</td>\n",
              "      <td>0</td>\n",
              "      <td>2</td>\n",
              "      <td>0</td>\n",
              "    </tr>\n",
              "    <tr>\n",
              "      <th>3</th>\n",
              "      <td>57513</td>\n",
              "      <td>66113</td>\n",
              "      <td>88.48</td>\n",
              "      <td>6</td>\n",
              "      <td>1</td>\n",
              "      <td>1</td>\n",
              "      <td>0</td>\n",
              "      <td>0</td>\n",
              "      <td>0</td>\n",
              "      <td>0</td>\n",
              "      <td>...</td>\n",
              "      <td>0</td>\n",
              "      <td>1</td>\n",
              "      <td>31</td>\n",
              "      <td>0</td>\n",
              "      <td>0</td>\n",
              "      <td>3</td>\n",
              "      <td>0</td>\n",
              "      <td>0</td>\n",
              "      <td>2</td>\n",
              "      <td>0</td>\n",
              "    </tr>\n",
              "    <tr>\n",
              "      <th>4</th>\n",
              "      <td>52378</td>\n",
              "      <td>60300</td>\n",
              "      <td>88.39</td>\n",
              "      <td>6</td>\n",
              "      <td>1</td>\n",
              "      <td>1</td>\n",
              "      <td>0</td>\n",
              "      <td>0</td>\n",
              "      <td>0</td>\n",
              "      <td>0</td>\n",
              "      <td>...</td>\n",
              "      <td>0</td>\n",
              "      <td>1</td>\n",
              "      <td>0</td>\n",
              "      <td>0</td>\n",
              "      <td>0</td>\n",
              "      <td>0</td>\n",
              "      <td>0</td>\n",
              "      <td>0</td>\n",
              "      <td>2</td>\n",
              "      <td>0</td>\n",
              "    </tr>\n",
              "  </tbody>\n",
              "</table>\n",
              "<p>5 rows × 69 columns</p>\n",
              "</div>"
            ],
            "text/plain": [
              "   disbursed_amount  asset_cost    ltv State_ID  MobileNo_Avl_Flag  \\\n",
              "0             50578       58400  89.55        6                  1   \n",
              "1             47145       65550  73.23        6                  1   \n",
              "2             53278       61360  89.63        6                  1   \n",
              "3             57513       66113  88.48        6                  1   \n",
              "4             52378       60300  88.39        6                  1   \n",
              "\n",
              "   Aadhar_flag  PAN_flag  VoterID_flag  Driving_flag  Passport_flag  ...  \\\n",
              "0            1         0             0             0              0  ...   \n",
              "1            1         0             0             0              0  ...   \n",
              "2            1         0             0             0              0  ...   \n",
              "3            1         0             0             0              0  ...   \n",
              "4            1         0             0             0              0  ...   \n",
              "\n",
              "   Employment.Type_Salaried  Employment.Type_Self employed  Tot.Inst  \\\n",
              "0                         1                              0         0   \n",
              "1                         0                              1      1991   \n",
              "2                         0                              1         0   \n",
              "3                         0                              1        31   \n",
              "4                         0                              1         0   \n",
              "\n",
              "   Tot.Amt.Sct  Tot.Amt.Dst  Tot.Loans  Tot.Act.Loans  Tot.Due.Loans  \\\n",
              "0            0            0          0              0              0   \n",
              "1        50200        50200          1              1              1   \n",
              "2            0            0          0              0              0   \n",
              "3            0            0          3              0              0   \n",
              "4            0            0          0              0              0   \n",
              "\n",
              "   Kyc_flag  Tot.Outsanding.Amt  \n",
              "0         2                   0  \n",
              "1         2               27600  \n",
              "2         2                   0  \n",
              "3         2                   0  \n",
              "4         2                   0  \n",
              "\n",
              "[5 rows x 69 columns]"
            ]
          },
          "metadata": {
            "tags": []
          },
          "execution_count": 193
        }
      ]
    },
    {
      "metadata": {
        "colab_type": "code",
        "id": "wL3b8e2S1AuG",
        "colab": {}
      },
      "cell_type": "code",
      "source": [
        "x_ = df.drop(axis=1, labels =[\"loan_default\"])\n",
        "y_=df['loan_default']\n",
        "\n",
        "xtest_ = df2.drop(axis=1, labels =[\"loan_default\"])\n",
        "\n",
        "#Y=Y.to_frame()\n",
        "#list_id = ['Current_pincode_ID','UniqueID','manufacturer_id','State_ID','branch_id','supplier_id','Employee_code_ID']\n",
        "#X = X.drop(axis=1, labels=list_id)\n",
        "#df2_2 = df2_2.drop(axis=1, labels=list_id)"
      ],
      "execution_count": 0,
      "outputs": []
    },
    {
      "metadata": {
        "id": "wrdGlvxncudv",
        "colab_type": "code",
        "colab": {
          "base_uri": "https://localhost:8080/",
          "height": 217
        },
        "outputId": "75b3007a-4fce-4b74-97fe-da34d7e77532"
      },
      "cell_type": "code",
      "source": [
        "numerics = ['int16', 'int32', 'int64', 'float16', 'float32', 'float64']\n",
        "\n",
        "num_col = x_.select_dtypes(include=numerics).columns\n",
        "\n",
        "print('number of numerical columns ',len(num_col))\n",
        "print('x.shape ',x_.shape )\n",
        "num_col"
      ],
      "execution_count": 132,
      "outputs": [
        {
          "output_type": "stream",
          "text": [
            "number of numerical columns  18\n",
            "x.shape  (233154, 71)\n"
          ],
          "name": "stdout"
        },
        {
          "output_type": "execute_result",
          "data": {
            "text/plain": [
              "Index(['ltv', 'PERFORM_CNS.SCORE_modified', 'ltv_b_m_mean', 'ltv_b_m_median',\n",
              "       'loan_default_b_m_sum', 'loan_default_b_m_mean', 'ltv_branch_mean',\n",
              "       'ltv_branch_median', 'loan_default_branch_sum',\n",
              "       'loan_default_branch_mean', 'loan_default_manuf_sum',\n",
              "       'loan_default_manuf_mean', 'loan_default_pin_sum',\n",
              "       'loan_default_pin_mean', 'loan_default_pin_f4_sum',\n",
              "       'loan_default_pin_f4_mean', 'ltv_to_asset_cost_ratio',\n",
              "       'Age_tillDisbursal'],\n",
              "      dtype='object')"
            ]
          },
          "metadata": {
            "tags": []
          },
          "execution_count": 132
        }
      ]
    },
    {
      "metadata": {
        "id": "wMn9-su7cudx",
        "colab_type": "code",
        "colab": {}
      },
      "cell_type": "code",
      "source": [
        "from sklearn.preprocessing import StandardScaler\n",
        "scaler = StandardScaler()\n",
        "x_[num_col] = scaler.fit_transform(x_[num_col])\n",
        "xtest_[num_col] = scaler.transform(xtest_[num_col])\n",
        "# xtr, xte, ytr, yte = train_test_split(x, y, test_size=0.2, random_state=42)"
      ],
      "execution_count": 0,
      "outputs": []
    },
    {
      "metadata": {
        "id": "xK6R39Jycud0",
        "colab_type": "code",
        "colab": {}
      },
      "cell_type": "code",
      "source": [
        "def print_scores(clf, xte, yte):\n",
        "    print ('test score = ',clf.score(xte,yte))\n",
        "    y_pred=clf.predict(xte)\n",
        "    print (classification_report(yte, y_pred))\n",
        "    print ('auroc without prob = ', roc_auc_score(yte, y_pred))\n",
        "    \n",
        "    try:\n",
        "        y_prob_pred=clf.predict_proba(xte)[:,1]\n",
        "        print ('auroc with prob = ', roc_auc_score(yte, y_prob_pred))\n",
        "    except:\n",
        "      pass\n",
        "\n",
        "def get_colname(df, clf):\n",
        "    clf_class = type(clf).__name__\n",
        "    return '{}_{}'.format(clf_class,df.shape[1]+1)\n",
        "\n",
        "\n",
        "def fit_clf_kfold(clf, k=9, save=True, sample=False, **kwargs):\n",
        "    folds = StratifiedKFold(n_splits=k, shuffle=True, random_state=3115)\n",
        "    pred_prob = np.zeros(len(x))\n",
        "    pred_class = np.zeros(len(x))\n",
        "    submit_prob = np.zeros(len(xtest))\n",
        "    submit_class = np.zeros(len(xtest))\n",
        "    for fold_, (trn_idx, val_idx) in enumerate(folds.split(x, y)):\n",
        "        print(\"Fold {}\".format(fold_))\n",
        "        if(sample):\n",
        "            cnn = RandomUnderSampler()\n",
        "            print('before ', sorted(Counter(y[trn_idx]).items()))\n",
        "            xtrain, ytrain = cnn.fit_resample(x[trn_idx], y[trn_idx])\n",
        "            print('after ', sorted(Counter(ytrain).items()))\n",
        "            clf.fit(xtrain, ytrain, \n",
        "                eval_set = [(x[val_idx], y[val_idx])], \n",
        "                early_stopping_rounds=10, \n",
        "                **kwargs\n",
        "               )\n",
        "        else:\n",
        "            clf.fit( x[trn_idx], y[trn_idx],  \n",
        "                eval_set = [(x[val_idx], y[val_idx])], \n",
        "                early_stopping_rounds=10, \n",
        "                **kwargs\n",
        "               )\n",
        "          \n",
        "        if (\"predict_proba\" in dir(clf)):\n",
        "          pred_prob[val_idx] = clf.predict_proba(x[val_idx],ntree_limit=clf.best_ntree_limit)[:,1]\n",
        "          if(save):\n",
        "            submit_prob += clf.predict_proba(xtest , \n",
        "                                           ntree_limit=clf.best_ntree_limit\n",
        "                                          )[:,1]/folds.get_n_splits()\n",
        "        else:\n",
        "          pred_class[val_idx] = clf.predict(x[val_idx])\n",
        "          if(save):\n",
        "            submit_class += clf.predict(xtest)/folds.get_n_splits()\n",
        "    if(save):\n",
        "      result = pd.read_pickle('/content/drive/My Drive/loan_prediction/submission.pkl')\n",
        "      predicted_train = pd.read_pickle('/content/drive/My Drive/loan_prediction/predicted_train.pkl')\n",
        "      colname = get_colname(result,clf)\n",
        "      if(\"predict_proba\" in dir(clf)):\n",
        "        result[colname]=submit_prob\n",
        "        predicted_train[colname] = pred_prob\n",
        "    else:\n",
        "        result[colname]=submit_class\n",
        "        predicted_train[colname] = pred_class\n",
        "    result.to_pickle('/content/drive/My Drive/loan_prediction/submission.pkl')\n",
        "    predicted_train.to_pickle('/content/drive/My Drive/loan_prediction/predicted_train.pkl')\n",
        "  \n",
        "    if(\"predict_proba\" in dir(clf)):\n",
        "        print(\"CV score: {:<8.5f}\".format(roc_auc_score(y, pred_prob)))\n",
        "    else:\n",
        "        print (classification_report(y, pred_class))\n",
        "    return clf, pred_prob, pred_class, submit_prob, submit_class"
      ],
      "execution_count": 0,
      "outputs": []
    },
    {
      "metadata": {
        "colab_type": "code",
        "id": "Yf0lZnB81AuI",
        "colab": {}
      },
      "cell_type": "code",
      "source": [
        "\n",
        "from xgboost import XGBClassifier\n",
        "from sklearn.model_selection import StratifiedKFold\n",
        "from sklearn.model_selection import train_test_split\n",
        "from sklearn.metrics import accuracy_score\n",
        "from sklearn.metrics import roc_curve, auc, roc_auc_score, classification_report\n"
      ],
      "execution_count": 0,
      "outputs": []
    },
    {
      "metadata": {
        "id": "4OfNfGQRcud4",
        "colab_type": "code",
        "colab": {
          "base_uri": "https://localhost:8080/",
          "height": 344
        },
        "outputId": "69b93824-8864-42ea-dbd0-e8953c0dabe4"
      },
      "cell_type": "code",
      "source": [
        "%%time\n",
        "x = np.array(x_)\n",
        "y = np.array(y_)\n",
        "xtest = np.array(xtest_)\n",
        "# xtr, xte, ytr, yte = train_test_split(x, y, test_size=0.25, random_state=42)\n",
        "\n",
        "scale_pos_weight = round(y[y==0].size/y[y==1].size)\n",
        "\n",
        "\n",
        "param = {}\n",
        "param['booster'] = 'gbtree'\n",
        "param['objective'] = 'binary:logistic'\n",
        "# param[\"eval_metric\"] = \"error\"\n",
        "param['eta'] = 0.005\n",
        "# param['gamma'] = 0\n",
        "param['max_depth'] = 4\n",
        "param['n_estimators']=4000\n",
        "# param['min_child_weight']=1\n",
        "# param['max_delta_step'] = 0\n",
        "param['subsample']= 0.8\n",
        "#param['colsample_bytree']=0.6\n",
        "param['colsample_bylevel'] = 0.3\n",
        "param['silent'] = 1\n",
        "# param['seed'] = 0\n",
        "param['scale_pos_weight'] = 3\n",
        "#param['base_score'] = 0.5\n",
        "param['tree_method']='gpu_hist'\n",
        "\n",
        "xgb = XGBClassifier(**param)\n",
        "# xgb.fit(xtr, ytr, eval_set=[(xtr, ytr), (xte, yte)], eval_metric='auc', verbose=0)\n",
        "# print('test score = ',xgb.score(xte,yte))\n",
        "# pp=model.predict_proba(xte)\n",
        "# print('auroc = ',roc_auc_score(yte, pp[:,1]))\n",
        "# print_scores(xgb, xte, yte)\n",
        "\n",
        "xgb=fit_clf_kfold(xgb, save=True, eval_metric='auc', verbose=0 , k=15)\n",
        "\n"
      ],
      "execution_count": 177,
      "outputs": [
        {
          "output_type": "stream",
          "text": [
            "Fold 0\n",
            "Fold 1\n",
            "Fold 2\n",
            "Fold 3\n",
            "Fold 4\n",
            "Fold 5\n",
            "Fold 6\n",
            "Fold 7\n",
            "Fold 8\n",
            "Fold 9\n",
            "Fold 10\n",
            "Fold 11\n",
            "Fold 12\n",
            "Fold 13\n",
            "Fold 14\n",
            "CV score: 0.70445 \n",
            "CPU times: user 48.8 s, sys: 7.47 s, total: 56.3 s\n",
            "Wall time: 56.4 s\n"
          ],
          "name": "stdout"
        }
      ]
    },
    {
      "metadata": {
        "id": "DC8e4Jnpcud7",
        "colab_type": "code",
        "colab": {
          "base_uri": "https://localhost:8080/",
          "height": 235
        },
        "outputId": "beacc987-623c-44d2-8122-1ef04241f077"
      },
      "cell_type": "code",
      "source": [
        "submit = pd.read_pickle('/content/drive/My Drive/loan_prediction/submission.pkl')\n",
        "y_pred_3=submit[submit.columns[-1]]\n",
        "# out=pd.DataFrame(y_pred_3, columns=list('Y'))\n",
        "y_pred_3.describe(percentiles=[.5,.6,.7,.8,.9,.95])"
      ],
      "execution_count": 173,
      "outputs": [
        {
          "output_type": "execute_result",
          "data": {
            "text/plain": [
              "count    112392.000000\n",
              "mean          0.420184\n",
              "std           0.179394\n",
              "min           0.000604\n",
              "50%           0.427897\n",
              "60%           0.476928\n",
              "70%           0.525008\n",
              "80%           0.577817\n",
              "90%           0.645034\n",
              "95%           0.697967\n",
              "max           0.969668\n",
              "Name: XGBClassifier_9, dtype: float64"
            ]
          },
          "metadata": {
            "tags": []
          },
          "execution_count": 173
        }
      ]
    },
    {
      "metadata": {
        "id": "RUYi9M-kpsQv",
        "colab_type": "code",
        "colab": {
          "base_uri": "https://localhost:8080/",
          "height": 1992
        },
        "outputId": "ab591b73-2f19-4fbe-9329-8160f83fb59a"
      },
      "cell_type": "code",
      "source": [
        "# pyplot.bar(range(len(xgb[0].feature_importances_)), xgb[0].feature_importances_)\n",
        "# pyplot.show()\n",
        "model=xgb[0]\n",
        "fimp=pd.DataFrame()\n",
        "fimp['features']=x_.columns.values\n",
        "#fimp.drop(fimp.index[[59,0]], inplace=True)\n",
        "fimp['feature_importance']=model.feature_importances_\n",
        "# fimp.to_csv(\"/content/drive/My Drive/loan_prediction/feature_importance.csv\",sep=',',encoding='utf-8',index=False)\n",
        "fimp.sort_values(by='feature_importance', ascending=False)\n"
      ],
      "execution_count": 174,
      "outputs": [
        {
          "output_type": "execute_result",
          "data": {
            "text/html": [
              "<div>\n",
              "<style scoped>\n",
              "    .dataframe tbody tr th:only-of-type {\n",
              "        vertical-align: middle;\n",
              "    }\n",
              "\n",
              "    .dataframe tbody tr th {\n",
              "        vertical-align: top;\n",
              "    }\n",
              "\n",
              "    .dataframe thead th {\n",
              "        text-align: right;\n",
              "    }\n",
              "</style>\n",
              "<table border=\"1\" class=\"dataframe\">\n",
              "  <thead>\n",
              "    <tr style=\"text-align: right;\">\n",
              "      <th></th>\n",
              "      <th>features</th>\n",
              "      <th>feature_importance</th>\n",
              "    </tr>\n",
              "  </thead>\n",
              "  <tbody>\n",
              "    <tr>\n",
              "      <th>47</th>\n",
              "      <td>loan_default_pin_mean</td>\n",
              "      <td>0.100076</td>\n",
              "    </tr>\n",
              "    <tr>\n",
              "      <th>44</th>\n",
              "      <td>UniqueID_manuf_count</td>\n",
              "      <td>0.061878</td>\n",
              "    </tr>\n",
              "    <tr>\n",
              "      <th>33</th>\n",
              "      <td>loan_default_b_m_mean</td>\n",
              "      <td>0.054716</td>\n",
              "    </tr>\n",
              "    <tr>\n",
              "      <th>2</th>\n",
              "      <td>ltv</td>\n",
              "      <td>0.040462</td>\n",
              "    </tr>\n",
              "    <tr>\n",
              "      <th>0</th>\n",
              "      <td>disbursed_amount</td>\n",
              "      <td>0.040239</td>\n",
              "    </tr>\n",
              "    <tr>\n",
              "      <th>46</th>\n",
              "      <td>loan_default_pin_sum</td>\n",
              "      <td>0.039335</td>\n",
              "    </tr>\n",
              "    <tr>\n",
              "      <th>12</th>\n",
              "      <td>PRI.OVERDUE.ACCTS</td>\n",
              "      <td>0.035345</td>\n",
              "    </tr>\n",
              "    <tr>\n",
              "      <th>64</th>\n",
              "      <td>Tot.Amt.Sct</td>\n",
              "      <td>0.028233</td>\n",
              "    </tr>\n",
              "    <tr>\n",
              "      <th>14</th>\n",
              "      <td>PRI.SANCTIONED.AMOUNT</td>\n",
              "      <td>0.027716</td>\n",
              "    </tr>\n",
              "    <tr>\n",
              "      <th>26</th>\n",
              "      <td>NO.OF_INQUIRIES</td>\n",
              "      <td>0.027511</td>\n",
              "    </tr>\n",
              "    <tr>\n",
              "      <th>28</th>\n",
              "      <td>PERFORM_CNS.SCORE_modified</td>\n",
              "      <td>0.027446</td>\n",
              "    </tr>\n",
              "    <tr>\n",
              "      <th>43</th>\n",
              "      <td>branch_id_manuf_count</td>\n",
              "      <td>0.022767</td>\n",
              "    </tr>\n",
              "    <tr>\n",
              "      <th>25</th>\n",
              "      <td>DELINQUENT.ACCTS.IN.LAST.SIX.MONTHS</td>\n",
              "      <td>0.021724</td>\n",
              "    </tr>\n",
              "    <tr>\n",
              "      <th>40</th>\n",
              "      <td>supplier_id_manuf_count</td>\n",
              "      <td>0.020735</td>\n",
              "    </tr>\n",
              "    <tr>\n",
              "      <th>68</th>\n",
              "      <td>Tot.Due.Loans</td>\n",
              "      <td>0.018671</td>\n",
              "    </tr>\n",
              "    <tr>\n",
              "      <th>61</th>\n",
              "      <td>Employment.Type_Salaried</td>\n",
              "      <td>0.018116</td>\n",
              "    </tr>\n",
              "    <tr>\n",
              "      <th>62</th>\n",
              "      <td>Employment.Type_Self employed</td>\n",
              "      <td>0.016291</td>\n",
              "    </tr>\n",
              "    <tr>\n",
              "      <th>57</th>\n",
              "      <td>ltv_to_asset_cost_ratio</td>\n",
              "      <td>0.016241</td>\n",
              "    </tr>\n",
              "    <tr>\n",
              "      <th>42</th>\n",
              "      <td>loan_default_manuf_mean</td>\n",
              "      <td>0.015732</td>\n",
              "    </tr>\n",
              "    <tr>\n",
              "      <th>56</th>\n",
              "      <td>H_Month</td>\n",
              "      <td>0.014339</td>\n",
              "    </tr>\n",
              "    <tr>\n",
              "      <th>15</th>\n",
              "      <td>PRI.DISBURSED.AMOUNT</td>\n",
              "      <td>0.013668</td>\n",
              "    </tr>\n",
              "    <tr>\n",
              "      <th>49</th>\n",
              "      <td>UniqueID_pin_count</td>\n",
              "      <td>0.012379</td>\n",
              "    </tr>\n",
              "    <tr>\n",
              "      <th>29</th>\n",
              "      <td>PERFORM_CNS.SCORE_flag</td>\n",
              "      <td>0.012281</td>\n",
              "    </tr>\n",
              "    <tr>\n",
              "      <th>10</th>\n",
              "      <td>PRI.NO.OF.ACCTS</td>\n",
              "      <td>0.011872</td>\n",
              "    </tr>\n",
              "    <tr>\n",
              "      <th>11</th>\n",
              "      <td>PRI.ACTIVE.ACCTS</td>\n",
              "      <td>0.011524</td>\n",
              "    </tr>\n",
              "    <tr>\n",
              "      <th>67</th>\n",
              "      <td>Tot.Act.Loans</td>\n",
              "      <td>0.011431</td>\n",
              "    </tr>\n",
              "    <tr>\n",
              "      <th>45</th>\n",
              "      <td>supplier_id_pin_count</td>\n",
              "      <td>0.011429</td>\n",
              "    </tr>\n",
              "    <tr>\n",
              "      <th>30</th>\n",
              "      <td>ltv_b_m_mean</td>\n",
              "      <td>0.010458</td>\n",
              "    </tr>\n",
              "    <tr>\n",
              "      <th>34</th>\n",
              "      <td>ltv_branch_mean</td>\n",
              "      <td>0.010444</td>\n",
              "    </tr>\n",
              "    <tr>\n",
              "      <th>22</th>\n",
              "      <td>PRIMARY.INSTAL.AMT</td>\n",
              "      <td>0.010291</td>\n",
              "    </tr>\n",
              "    <tr>\n",
              "      <th>...</th>\n",
              "      <td>...</td>\n",
              "      <td>...</td>\n",
              "    </tr>\n",
              "    <tr>\n",
              "      <th>37</th>\n",
              "      <td>loan_default_branch_mean</td>\n",
              "      <td>0.007091</td>\n",
              "    </tr>\n",
              "    <tr>\n",
              "      <th>63</th>\n",
              "      <td>Tot.Inst</td>\n",
              "      <td>0.007069</td>\n",
              "    </tr>\n",
              "    <tr>\n",
              "      <th>32</th>\n",
              "      <td>loan_default_b_m_sum</td>\n",
              "      <td>0.006411</td>\n",
              "    </tr>\n",
              "    <tr>\n",
              "      <th>48</th>\n",
              "      <td>branch_id_pin_count</td>\n",
              "      <td>0.006324</td>\n",
              "    </tr>\n",
              "    <tr>\n",
              "      <th>36</th>\n",
              "      <td>loan_default_branch_sum</td>\n",
              "      <td>0.006134</td>\n",
              "    </tr>\n",
              "    <tr>\n",
              "      <th>13</th>\n",
              "      <td>PRI.CURRENT.BALANCE</td>\n",
              "      <td>0.005960</td>\n",
              "    </tr>\n",
              "    <tr>\n",
              "      <th>7</th>\n",
              "      <td>VoterID_flag</td>\n",
              "      <td>0.005952</td>\n",
              "    </tr>\n",
              "    <tr>\n",
              "      <th>1</th>\n",
              "      <td>asset_cost</td>\n",
              "      <td>0.005929</td>\n",
              "    </tr>\n",
              "    <tr>\n",
              "      <th>8</th>\n",
              "      <td>Driving_flag</td>\n",
              "      <td>0.005902</td>\n",
              "    </tr>\n",
              "    <tr>\n",
              "      <th>27</th>\n",
              "      <td>pin_f4</td>\n",
              "      <td>0.005886</td>\n",
              "    </tr>\n",
              "    <tr>\n",
              "      <th>6</th>\n",
              "      <td>PAN_flag</td>\n",
              "      <td>0.005670</td>\n",
              "    </tr>\n",
              "    <tr>\n",
              "      <th>55</th>\n",
              "      <td>A_Month</td>\n",
              "      <td>0.005617</td>\n",
              "    </tr>\n",
              "    <tr>\n",
              "      <th>52</th>\n",
              "      <td>loan_default_pin_f4_mean</td>\n",
              "      <td>0.005112</td>\n",
              "    </tr>\n",
              "    <tr>\n",
              "      <th>20</th>\n",
              "      <td>SEC.SANCTIONED.AMOUNT</td>\n",
              "      <td>0.004998</td>\n",
              "    </tr>\n",
              "    <tr>\n",
              "      <th>3</th>\n",
              "      <td>State_ID</td>\n",
              "      <td>0.004983</td>\n",
              "    </tr>\n",
              "    <tr>\n",
              "      <th>16</th>\n",
              "      <td>SEC.NO.OF.ACCTS</td>\n",
              "      <td>0.004933</td>\n",
              "    </tr>\n",
              "    <tr>\n",
              "      <th>39</th>\n",
              "      <td>UniqueID_branch_count</td>\n",
              "      <td>0.004881</td>\n",
              "    </tr>\n",
              "    <tr>\n",
              "      <th>51</th>\n",
              "      <td>loan_default_pin_f4_sum</td>\n",
              "      <td>0.004740</td>\n",
              "    </tr>\n",
              "    <tr>\n",
              "      <th>9</th>\n",
              "      <td>Passport_flag</td>\n",
              "      <td>0.004621</td>\n",
              "    </tr>\n",
              "    <tr>\n",
              "      <th>38</th>\n",
              "      <td>supplier_id_branch_count</td>\n",
              "      <td>0.004550</td>\n",
              "    </tr>\n",
              "    <tr>\n",
              "      <th>50</th>\n",
              "      <td>supplier_id_pin_f4_count</td>\n",
              "      <td>0.004432</td>\n",
              "    </tr>\n",
              "    <tr>\n",
              "      <th>19</th>\n",
              "      <td>SEC.CURRENT.BALANCE</td>\n",
              "      <td>0.004343</td>\n",
              "    </tr>\n",
              "    <tr>\n",
              "      <th>23</th>\n",
              "      <td>SEC.INSTAL.AMT</td>\n",
              "      <td>0.004220</td>\n",
              "    </tr>\n",
              "    <tr>\n",
              "      <th>53</th>\n",
              "      <td>branch_id_pin_f4_count</td>\n",
              "      <td>0.004194</td>\n",
              "    </tr>\n",
              "    <tr>\n",
              "      <th>18</th>\n",
              "      <td>SEC.OVERDUE.ACCTS</td>\n",
              "      <td>0.003546</td>\n",
              "    </tr>\n",
              "    <tr>\n",
              "      <th>5</th>\n",
              "      <td>Aadhar_flag</td>\n",
              "      <td>0.003410</td>\n",
              "    </tr>\n",
              "    <tr>\n",
              "      <th>54</th>\n",
              "      <td>UniqueID_pin_f4_count</td>\n",
              "      <td>0.003353</td>\n",
              "    </tr>\n",
              "    <tr>\n",
              "      <th>17</th>\n",
              "      <td>SEC.ACTIVE.ACCTS</td>\n",
              "      <td>0.003030</td>\n",
              "    </tr>\n",
              "    <tr>\n",
              "      <th>4</th>\n",
              "      <td>MobileNo_Avl_Flag</td>\n",
              "      <td>0.000000</td>\n",
              "    </tr>\n",
              "    <tr>\n",
              "      <th>21</th>\n",
              "      <td>SEC.DISBURSED.AMOUNT</td>\n",
              "      <td>0.000000</td>\n",
              "    </tr>\n",
              "  </tbody>\n",
              "</table>\n",
              "<p>71 rows × 2 columns</p>\n",
              "</div>"
            ],
            "text/plain": [
              "                               features  feature_importance\n",
              "47                loan_default_pin_mean            0.100076\n",
              "44                 UniqueID_manuf_count            0.061878\n",
              "33                loan_default_b_m_mean            0.054716\n",
              "2                                   ltv            0.040462\n",
              "0                      disbursed_amount            0.040239\n",
              "46                 loan_default_pin_sum            0.039335\n",
              "12                    PRI.OVERDUE.ACCTS            0.035345\n",
              "64                          Tot.Amt.Sct            0.028233\n",
              "14                PRI.SANCTIONED.AMOUNT            0.027716\n",
              "26                      NO.OF_INQUIRIES            0.027511\n",
              "28           PERFORM_CNS.SCORE_modified            0.027446\n",
              "43                branch_id_manuf_count            0.022767\n",
              "25  DELINQUENT.ACCTS.IN.LAST.SIX.MONTHS            0.021724\n",
              "40              supplier_id_manuf_count            0.020735\n",
              "68                        Tot.Due.Loans            0.018671\n",
              "61             Employment.Type_Salaried            0.018116\n",
              "62        Employment.Type_Self employed            0.016291\n",
              "57              ltv_to_asset_cost_ratio            0.016241\n",
              "42              loan_default_manuf_mean            0.015732\n",
              "56                              H_Month            0.014339\n",
              "15                 PRI.DISBURSED.AMOUNT            0.013668\n",
              "49                   UniqueID_pin_count            0.012379\n",
              "29               PERFORM_CNS.SCORE_flag            0.012281\n",
              "10                      PRI.NO.OF.ACCTS            0.011872\n",
              "11                     PRI.ACTIVE.ACCTS            0.011524\n",
              "67                        Tot.Act.Loans            0.011431\n",
              "45                supplier_id_pin_count            0.011429\n",
              "30                         ltv_b_m_mean            0.010458\n",
              "34                      ltv_branch_mean            0.010444\n",
              "22                   PRIMARY.INSTAL.AMT            0.010291\n",
              "..                                  ...                 ...\n",
              "37             loan_default_branch_mean            0.007091\n",
              "63                             Tot.Inst            0.007069\n",
              "32                 loan_default_b_m_sum            0.006411\n",
              "48                  branch_id_pin_count            0.006324\n",
              "36              loan_default_branch_sum            0.006134\n",
              "13                  PRI.CURRENT.BALANCE            0.005960\n",
              "7                          VoterID_flag            0.005952\n",
              "1                            asset_cost            0.005929\n",
              "8                          Driving_flag            0.005902\n",
              "27                               pin_f4            0.005886\n",
              "6                              PAN_flag            0.005670\n",
              "55                              A_Month            0.005617\n",
              "52             loan_default_pin_f4_mean            0.005112\n",
              "20                SEC.SANCTIONED.AMOUNT            0.004998\n",
              "3                              State_ID            0.004983\n",
              "16                      SEC.NO.OF.ACCTS            0.004933\n",
              "39                UniqueID_branch_count            0.004881\n",
              "51              loan_default_pin_f4_sum            0.004740\n",
              "9                         Passport_flag            0.004621\n",
              "38             supplier_id_branch_count            0.004550\n",
              "50             supplier_id_pin_f4_count            0.004432\n",
              "19                  SEC.CURRENT.BALANCE            0.004343\n",
              "23                       SEC.INSTAL.AMT            0.004220\n",
              "53               branch_id_pin_f4_count            0.004194\n",
              "18                    SEC.OVERDUE.ACCTS            0.003546\n",
              "5                           Aadhar_flag            0.003410\n",
              "54                UniqueID_pin_f4_count            0.003353\n",
              "17                     SEC.ACTIVE.ACCTS            0.003030\n",
              "4                     MobileNo_Avl_Flag            0.000000\n",
              "21                 SEC.DISBURSED.AMOUNT            0.000000\n",
              "\n",
              "[71 rows x 2 columns]"
            ]
          },
          "metadata": {
            "tags": []
          },
          "execution_count": 174
        }
      ]
    },
    {
      "metadata": {
        "id": "tcWWo7kInpdk",
        "colab_type": "code",
        "colab": {
          "base_uri": "https://localhost:8080/",
          "height": 206
        },
        "outputId": "95cb1010-8605-4fed-f60c-c549b71057af"
      },
      "cell_type": "code",
      "source": [
        "submit = pd.read_pickle('/content/drive/My Drive/loan_prediction/submission.pkl')\n",
        "predicted = pd.read_pickle('/content/drive/My Drive/loan_prediction/predicted_train.pkl')\n",
        "submit.head()"
      ],
      "execution_count": 175,
      "outputs": [
        {
          "output_type": "execute_result",
          "data": {
            "text/html": [
              "<div>\n",
              "<style scoped>\n",
              "    .dataframe tbody tr th:only-of-type {\n",
              "        vertical-align: middle;\n",
              "    }\n",
              "\n",
              "    .dataframe tbody tr th {\n",
              "        vertical-align: top;\n",
              "    }\n",
              "\n",
              "    .dataframe thead th {\n",
              "        text-align: right;\n",
              "    }\n",
              "</style>\n",
              "<table border=\"1\" class=\"dataframe\">\n",
              "  <thead>\n",
              "    <tr style=\"text-align: right;\">\n",
              "      <th></th>\n",
              "      <th>XGBClassifier_1</th>\n",
              "      <th>XGBClassifier_2</th>\n",
              "      <th>XGBClassifier_3</th>\n",
              "      <th>XGBClassifier_4</th>\n",
              "      <th>XGBClassifier_5</th>\n",
              "      <th>XGBClassifier_6</th>\n",
              "      <th>XGBClassifier_7</th>\n",
              "      <th>XGBClassifier_8</th>\n",
              "      <th>XGBClassifier_9</th>\n",
              "    </tr>\n",
              "  </thead>\n",
              "  <tbody>\n",
              "    <tr>\n",
              "      <th>0</th>\n",
              "      <td>0.551745</td>\n",
              "      <td>0.545465</td>\n",
              "      <td>0.545465</td>\n",
              "      <td>0.564643</td>\n",
              "      <td>0.563776</td>\n",
              "      <td>0.563776</td>\n",
              "      <td>0.553638</td>\n",
              "      <td>0.561098</td>\n",
              "      <td>0.556993</td>\n",
              "    </tr>\n",
              "    <tr>\n",
              "      <th>1</th>\n",
              "      <td>0.587459</td>\n",
              "      <td>0.594527</td>\n",
              "      <td>0.594527</td>\n",
              "      <td>0.599572</td>\n",
              "      <td>0.604349</td>\n",
              "      <td>0.604349</td>\n",
              "      <td>0.601009</td>\n",
              "      <td>0.604704</td>\n",
              "      <td>0.608498</td>\n",
              "    </tr>\n",
              "    <tr>\n",
              "      <th>2</th>\n",
              "      <td>0.568515</td>\n",
              "      <td>0.566945</td>\n",
              "      <td>0.566945</td>\n",
              "      <td>0.593399</td>\n",
              "      <td>0.590121</td>\n",
              "      <td>0.590121</td>\n",
              "      <td>0.584790</td>\n",
              "      <td>0.576571</td>\n",
              "      <td>0.577307</td>\n",
              "    </tr>\n",
              "    <tr>\n",
              "      <th>3</th>\n",
              "      <td>0.432297</td>\n",
              "      <td>0.440790</td>\n",
              "      <td>0.440790</td>\n",
              "      <td>0.467621</td>\n",
              "      <td>0.470306</td>\n",
              "      <td>0.470306</td>\n",
              "      <td>0.452669</td>\n",
              "      <td>0.450646</td>\n",
              "      <td>0.445440</td>\n",
              "    </tr>\n",
              "    <tr>\n",
              "      <th>4</th>\n",
              "      <td>0.559724</td>\n",
              "      <td>0.552814</td>\n",
              "      <td>0.552814</td>\n",
              "      <td>0.551310</td>\n",
              "      <td>0.557348</td>\n",
              "      <td>0.557348</td>\n",
              "      <td>0.544291</td>\n",
              "      <td>0.554009</td>\n",
              "      <td>0.546895</td>\n",
              "    </tr>\n",
              "  </tbody>\n",
              "</table>\n",
              "</div>"
            ],
            "text/plain": [
              "   XGBClassifier_1  XGBClassifier_2  XGBClassifier_3  XGBClassifier_4  \\\n",
              "0         0.551745         0.545465         0.545465         0.564643   \n",
              "1         0.587459         0.594527         0.594527         0.599572   \n",
              "2         0.568515         0.566945         0.566945         0.593399   \n",
              "3         0.432297         0.440790         0.440790         0.467621   \n",
              "4         0.559724         0.552814         0.552814         0.551310   \n",
              "\n",
              "   XGBClassifier_5  XGBClassifier_6  XGBClassifier_7  XGBClassifier_8  \\\n",
              "0         0.563776         0.563776         0.553638         0.561098   \n",
              "1         0.604349         0.604349         0.601009         0.604704   \n",
              "2         0.590121         0.590121         0.584790         0.576571   \n",
              "3         0.470306         0.470306         0.452669         0.450646   \n",
              "4         0.557348         0.557348         0.544291         0.554009   \n",
              "\n",
              "   XGBClassifier_9  \n",
              "0         0.556993  \n",
              "1         0.608498  \n",
              "2         0.577307  \n",
              "3         0.445440  \n",
              "4         0.546895  "
            ]
          },
          "metadata": {
            "tags": []
          },
          "execution_count": 175
        }
      ]
    },
    {
      "metadata": {
        "id": "VxYHbocXnz8g",
        "colab_type": "code",
        "colab": {}
      },
      "cell_type": "code",
      "source": [
        "df_sub = pd.read_csv('/content/drive/My Drive/loan_prediction/sample_submission.csv')\n",
        "df_sub['loan_default']=submit['XGBClassifier_7']#[['XGBClassifier_1',\t'XGBClassifier_2',\t'CatBoostClassifier_3',\t'CatBoostClassifier_4']].mean(1)#['XGBClassifier_2']\n",
        "df_sub.to_csv('/content/drive/My Drive/loan_prediction/xgb11.csv',index=False)"
      ],
      "execution_count": 0,
      "outputs": []
    },
    {
      "metadata": {
        "colab_type": "code",
        "id": "ClhRx-4q1AuL",
        "outputId": "f1653483-5cf8-4d91-fa90-cd976589c0aa",
        "colab": {
          "base_uri": "https://localhost:8080/",
          "height": 111
        }
      },
      "cell_type": "code",
      "source": [
        "X= X.apply(pd.to_numeric)\n",
        "df2_2= df2_2.apply(pd.to_numeric)\n",
        "\n",
        "\n",
        "\n",
        "model=XGBClassifier(\n",
        " learning_rate =0.05,\n",
        " subsample=0.8,\n",
        "colsample_bytree=0.6,\n",
        " n_estimators=1500,\n",
        " max_depth=3,\n",
        " min_child_weight=1,\n",
        " gamma=5,\n",
        " objective= 'binary:logistic',\n",
        " nthread=8,\n",
        " seed=27)\n",
        "model.fit(X,Y)\n",
        "\n",
        "y_pred_3 = model.predict(df2_2)\n",
        "\n",
        "\n",
        "#out=pd.DataFrame(y_pred_3, columns=list('NY'))\n",
        "#out.describe(percentiles=[.5,.6,.7,.8,.9,.95])\n",
        "\n",
        "\n",
        "\n"
      ],
      "execution_count": 0,
      "outputs": [
        {
          "output_type": "stream",
          "text": [
            "/usr/local/lib/python3.6/dist-packages/sklearn/preprocessing/label.py:219: DataConversionWarning: A column-vector y was passed when a 1d array was expected. Please change the shape of y to (n_samples, ), for example using ravel().\n",
            "  y = column_or_1d(y, warn=True)\n",
            "/usr/local/lib/python3.6/dist-packages/sklearn/preprocessing/label.py:252: DataConversionWarning: A column-vector y was passed when a 1d array was expected. Please change the shape of y to (n_samples, ), for example using ravel().\n",
            "  y = column_or_1d(y, warn=True)\n"
          ],
          "name": "stderr"
        }
      ]
    },
    {
      "metadata": {
        "colab_type": "code",
        "id": "W-XvAnqZ5nnd",
        "outputId": "592790fb-6240-47d5-b826-6122569f6097",
        "colab": {
          "base_uri": "https://localhost:8080/",
          "height": 35
        }
      },
      "cell_type": "code",
      "source": [
        "\n",
        "#df2.shape\n",
        "np.count_nonzero(y_pred_3 == 1)\n",
        "#len(y_pred_3)\n",
        "\n",
        "#y_pred_3.count(\"1\")\n",
        "\n",
        "#df.query('education == \"9th\"').education.count()"
      ],
      "execution_count": 0,
      "outputs": [
        {
          "output_type": "execute_result",
          "data": {
            "text/plain": [
              "444"
            ]
          },
          "metadata": {
            "tags": []
          },
          "execution_count": 51
        }
      ]
    },
    {
      "metadata": {
        "id": "RiomTzKWj-ix",
        "colab_type": "code",
        "colab": {}
      },
      "cell_type": "code",
      "source": [
        "def cross_val(X_train, y_train, model):\n",
        "    # Applying k-Fold Cross Validation\n",
        "    from sklearn.model_selection import cross_val_score\n",
        "    accuracies = cross_val_score(estimator = model, X = X_train, y = y_train, cv = 5)\n",
        "    return accuracies.mean()"
      ],
      "execution_count": 0,
      "outputs": []
    },
    {
      "metadata": {
        "id": "Rbpam5O4kEtK",
        "colab_type": "code",
        "colab": {}
      },
      "cell_type": "code",
      "source": [
        "%%time\n",
        "x = np.array(x_)\n",
        "y = np.array(y_)\n",
        "xtest = np.array(xtest_)\n",
        "# xtr, xte, ytr, yte = train_test_split(x, y, test_size=0.25, random_state=42)\n",
        "\n",
        "scale_pos_weight = round(y[y==0].size/y[y==1].size)\n",
        "\n",
        "\n",
        "param = {}\n",
        "param['booster'] = 'gbtree'\n",
        "param['objective'] = 'binary:logistic'\n",
        "# param[\"eval_metric\"] = \"error\"\n",
        "# param['eta'] = 0.3\n",
        "# param['gamma'] = 0\n",
        "param['max_depth'] = 4\n",
        "param['n_estimators']=2000\n",
        "# param['min_child_weight']=1\n",
        "# param['max_delta_step'] = 0\n",
        "# param['subsample']= 1\n",
        "# param['colsample_bytree']=1\n",
        "param['silent'] = 1\n",
        "# param['seed'] = 0\n",
        "param['scale_pos_weight'] = scale_pos_weight\n",
        "param['base_score'] = 0.3\n",
        "param['tree_method']='gpu_hist'\n",
        "\n",
        "xgb = XGBClassifier(**param)\n",
        "# xgb.fit(xtr, ytr, eval_set=[(xtr, ytr), (xte, yte)], eval_metric='auc', verbose=0)\n",
        "# print('test score = ',xgb.score(xte,yte))\n",
        "# pp=model.predict_proba(xte)\n",
        "# print('auroc = ',roc_auc_score(yte, pp[:,1]))\n",
        "# print_scores(xgb, xte, yte)\n",
        "\n",
        "\n",
        "cross_val(X_low, Y_low, model)"
      ],
      "execution_count": 0,
      "outputs": []
    },
    {
      "metadata": {
        "colab_type": "code",
        "id": "Aot5QInH1AuQ",
        "outputId": "b7203a5c-efc5-4c6d-b9c5-f93690553138",
        "colab": {
          "base_uri": "https://localhost:8080/",
          "height": 491
        }
      },
      "cell_type": "code",
      "source": [
        "from matplotlib import pyplot\n",
        "import xgboost as xgb\n",
        "# feature importance\n",
        "print(model.feature_importances_)\n",
        "# plot\n",
        "pyplot.bar(range(len(model.feature_importances_)), model.feature_importances_)\n",
        "pyplot.show()\n",
        "\n",
        "# plot feature importance manually\n",
        "fimp=pd.DataFrame()\n",
        "fimp['features']=X.columns.values\n",
        "#fimp.drop(fimp.index[[59,0]], inplace=True)\n",
        "fimp['feature_importance']=model.feature_importances_\n",
        "fimp.to_csv(\"/content/drive/My Drive/loan_prediction/feature_importance.csv\",sep=',',encoding='utf-8',index=False)\n",
        "\n"
      ],
      "execution_count": 0,
      "outputs": [
        {
          "output_type": "stream",
          "text": [
            "[0.01726396 0.02812877 0.00951606 0.0376806  0.01496041 0.01091004\n",
            " 0.0229496  0.01930945 0.03124245 0.00985394 0.         0.02485145\n",
            " 0.00853963 0.02739699 0.00516036 0.00554426 0.04997758 0.01690836\n",
            " 0.0126935  0.0503498  0.00886632 0.02036694 0.01356369 0.00643203\n",
            " 0.00526071 0.00598476 0.0064719  0.00715746 0.00727006 0.01128673\n",
            " 0.00632748 0.01179211 0.03501973 0.03904304 0.00789503 0.01631342\n",
            " 0.01167036 0.01186947 0.03533759 0.02828344 0.00909417 0.00648576\n",
            " 0.00843543 0.00838487 0.00684292 0.0079934  0.00632314 0.00894935\n",
            " 0.00784739 0.00719263 0.00899343 0.00717781 0.03952337 0.\n",
            " 0.         0.01005644 0.0057726  0.00815609 0.00521154 0.00575887\n",
            " 0.01067442 0.03622304 0.013216   0.01807119 0.01633711 0.01947832\n",
            " 0.00922627 0.00912503]\n"
          ],
          "name": "stdout"
        },
        {
          "output_type": "display_data",
          "data": {
            "image/png": "[encoded data removed]",
            "text/plain": [
              "<Figure size 432x288 with 1 Axes>"
            ]
          },
          "metadata": {
            "tags": []
          }
        }
      ]
    },
    {
      "metadata": {
        "colab_type": "code",
        "id": "EiL0emKe1Aub",
        "colab": {}
      },
      "cell_type": "code",
      "source": [
        "x=pd.DataFrame()\n",
        "arr=df2.UniqueID.values\n",
        "x['UniqueID']=arr\n",
        "x['loan_default']= y_pred_3 \n",
        "x.to_csv(\"/content/drive/My Drive/loan_prediction/sample_submission2.csv\",sep=',',encoding='utf-8',index=False)\n"
      ],
      "execution_count": 0,
      "outputs": []
    },
    {
      "metadata": {
        "colab_type": "code",
        "id": "yNynSes01Aue",
        "outputId": "29bca9d5-0cf2-42bc-b732-2370fb2180ba",
        "colab": {}
      },
      "cell_type": "code",
      "source": [
        "y_pred_3 == 1"
      ],
      "execution_count": 0,
      "outputs": [
        {
          "output_type": "execute_result",
          "data": {
            "text/plain": [
              "array([False, False, False, ..., False, False, False])"
            ]
          },
          "metadata": {
            "tags": []
          },
          "execution_count": 116
        }
      ]
    },
    {
      "metadata": {
        "colab_type": "code",
        "id": "V5JBgeT-1Aul",
        "outputId": "8bd91df6-17af-444b-b555-6ae55e61d787",
        "colab": {}
      },
      "cell_type": "code",
      "source": [
        "fd = pd.DataFrame({'a':[1,2,3]})\n",
        "fd['b']=[2,2,3]\n",
        "fd['c']=fd['a']/fd['b']\n",
        "fd"
      ],
      "execution_count": 0,
      "outputs": [
        {
          "output_type": "execute_result",
          "data": {
            "text/html": [
              "<div>\n",
              "<style scoped>\n",
              "    .dataframe tbody tr th:only-of-type {\n",
              "        vertical-align: middle;\n",
              "    }\n",
              "\n",
              "    .dataframe tbody tr th {\n",
              "        vertical-align: top;\n",
              "    }\n",
              "\n",
              "    .dataframe thead th {\n",
              "        text-align: right;\n",
              "    }\n",
              "</style>\n",
              "<table border=\"1\" class=\"dataframe\">\n",
              "  <thead>\n",
              "    <tr style=\"text-align: right;\">\n",
              "      <th></th>\n",
              "      <th>a</th>\n",
              "      <th>b</th>\n",
              "      <th>c</th>\n",
              "    </tr>\n",
              "  </thead>\n",
              "  <tbody>\n",
              "    <tr>\n",
              "      <th>0</th>\n",
              "      <td>1</td>\n",
              "      <td>2</td>\n",
              "      <td>0.5</td>\n",
              "    </tr>\n",
              "    <tr>\n",
              "      <th>1</th>\n",
              "      <td>2</td>\n",
              "      <td>2</td>\n",
              "      <td>1.0</td>\n",
              "    </tr>\n",
              "    <tr>\n",
              "      <th>2</th>\n",
              "      <td>3</td>\n",
              "      <td>3</td>\n",
              "      <td>1.0</td>\n",
              "    </tr>\n",
              "  </tbody>\n",
              "</table>\n",
              "</div>"
            ],
            "text/plain": [
              "   a  b    c\n",
              "0  1  2  0.5\n",
              "1  2  2  1.0\n",
              "2  3  3  1.0"
            ]
          },
          "metadata": {
            "tags": []
          },
          "execution_count": 215
        }
      ]
    },
    {
      "metadata": {
        "id": "ec433Yzecueh",
        "colab_type": "code",
        "outputId": "c3b16a50-2b46-4d7f-d3b9-1e7ae4245fe3",
        "colab": {}
      },
      "cell_type": "code",
      "source": [
        "fd.mean()"
      ],
      "execution_count": 0,
      "outputs": [
        {
          "output_type": "execute_result",
          "data": {
            "text/plain": [
              "a    2.0\n",
              "b    NaN\n",
              "dtype: float64"
            ]
          },
          "metadata": {
            "tags": []
          },
          "execution_count": 114
        }
      ]
    },
    {
      "metadata": {
        "id": "2A_hmTkvcuek",
        "colab_type": "code",
        "colab": {}
      },
      "cell_type": "code",
      "source": [
        "train_low = df[df['PERFORM_CNS.SCORE_modified'] < 500 ]\n",
        "train_med = df[(df['PERFORM_CNS.SCORE_modified'] >= 500) & (df['PERFORM_CNS.SCORE_modified'] < 700) ]\n",
        "train_high = df[df['PERFORM_CNS.SCORE_modified'] >= 700]\n",
        "\n",
        "test_low = df2[df2['PERFORM_CNS.SCORE_modified'] < 500]\n",
        "test_med = df2[(df2['PERFORM_CNS.SCORE_modified'] >= 500) & (df2['PERFORM_CNS.SCORE_modified'] < 700) ]\n",
        "test_high = df2[df2['PERFORM_CNS.SCORE_modified'] >= 700]"
      ],
      "execution_count": 0,
      "outputs": []
    },
    {
      "metadata": {
        "id": "QXQLFKIw4xyk",
        "colab_type": "code",
        "colab": {
          "base_uri": "https://localhost:8080/",
          "height": 752
        },
        "outputId": "1c41f4ee-c77e-4df4-fb85-e4f05c48d218"
      },
      "cell_type": "code",
      "source": [
        "X_low = train_low.drop(axis=1, labels =[\"loan_default\"])\n",
        "Y_low= train_low['loan_default']\n",
        "#Y_low=Y_low.to_frame()\n",
        "test_low = test_low.drop(axis=1, labels =[\"loan_default\"])\n",
        "\n",
        "#list_id = ['Current_pincode_ID','UniqueID','manufacturer_id','State_ID','branch_id','supplier_id','Employee_code_ID']\n",
        "#X_low = X_low.drop(axis=1, labels=list_id)\n",
        "#test_low_2 = test_low.drop(axis=1, labels=list_id)\n",
        "\n",
        "X_low= X_low.apply(pd.to_numeric)\n",
        "test_low_2= test_low.apply(pd.to_numeric)\n"
      ],
      "execution_count": 144,
      "outputs": [
        {
          "output_type": "error",
          "ename": "KeyError",
          "evalue": "ignored",
          "traceback": [
            "\u001b[0;31m---------------------------------------------------------------------------\u001b[0m",
            "\u001b[0;31mKeyError\u001b[0m                                  Traceback (most recent call last)",
            "\u001b[0;32m<ipython-input-144-4306d0c9b3e8>\u001b[0m in \u001b[0;36m<module>\u001b[0;34m()\u001b[0m\n\u001b[1;32m      2\u001b[0m \u001b[0mY_low\u001b[0m\u001b[0;34m=\u001b[0m \u001b[0mtrain_low\u001b[0m\u001b[0;34m[\u001b[0m\u001b[0;34m'loan_default'\u001b[0m\u001b[0;34m]\u001b[0m\u001b[0;34m\u001b[0m\u001b[0;34m\u001b[0m\u001b[0m\n\u001b[1;32m      3\u001b[0m \u001b[0;31m#Y_low=Y_low.to_frame()\u001b[0m\u001b[0;34m\u001b[0m\u001b[0;34m\u001b[0m\u001b[0;34m\u001b[0m\u001b[0m\n\u001b[0;32m----> 4\u001b[0;31m \u001b[0mtest_low\u001b[0m \u001b[0;34m=\u001b[0m \u001b[0mtest_low\u001b[0m\u001b[0;34m.\u001b[0m\u001b[0mdrop\u001b[0m\u001b[0;34m(\u001b[0m\u001b[0maxis\u001b[0m\u001b[0;34m=\u001b[0m\u001b[0;36m1\u001b[0m\u001b[0;34m,\u001b[0m \u001b[0mlabels\u001b[0m \u001b[0;34m=\u001b[0m\u001b[0;34m[\u001b[0m\u001b[0;34m\"loan_default\"\u001b[0m\u001b[0;34m]\u001b[0m\u001b[0;34m)\u001b[0m\u001b[0;34m\u001b[0m\u001b[0;34m\u001b[0m\u001b[0m\n\u001b[0m\u001b[1;32m      5\u001b[0m \u001b[0;34m\u001b[0m\u001b[0m\n\u001b[1;32m      6\u001b[0m \u001b[0;31m#list_id = ['Current_pincode_ID','UniqueID','manufacturer_id','State_ID','branch_id','supplier_id','Employee_code_ID']\u001b[0m\u001b[0;34m\u001b[0m\u001b[0;34m\u001b[0m\u001b[0;34m\u001b[0m\u001b[0m\n",
            "\u001b[0;32m/usr/local/lib/python3.6/dist-packages/pandas/core/frame.py\u001b[0m in \u001b[0;36mdrop\u001b[0;34m(self, labels, axis, index, columns, level, inplace, errors)\u001b[0m\n\u001b[1;32m   3695\u001b[0m                                            \u001b[0mindex\u001b[0m\u001b[0;34m=\u001b[0m\u001b[0mindex\u001b[0m\u001b[0;34m,\u001b[0m \u001b[0mcolumns\u001b[0m\u001b[0;34m=\u001b[0m\u001b[0mcolumns\u001b[0m\u001b[0;34m,\u001b[0m\u001b[0;34m\u001b[0m\u001b[0;34m\u001b[0m\u001b[0m\n\u001b[1;32m   3696\u001b[0m                                            \u001b[0mlevel\u001b[0m\u001b[0;34m=\u001b[0m\u001b[0mlevel\u001b[0m\u001b[0;34m,\u001b[0m \u001b[0minplace\u001b[0m\u001b[0;34m=\u001b[0m\u001b[0minplace\u001b[0m\u001b[0;34m,\u001b[0m\u001b[0;34m\u001b[0m\u001b[0;34m\u001b[0m\u001b[0m\n\u001b[0;32m-> 3697\u001b[0;31m                                            errors=errors)\n\u001b[0m\u001b[1;32m   3698\u001b[0m \u001b[0;34m\u001b[0m\u001b[0m\n\u001b[1;32m   3699\u001b[0m     @rewrite_axis_style_signature('mapper', [('copy', True),\n",
            "\u001b[0;32m/usr/local/lib/python3.6/dist-packages/pandas/core/generic.py\u001b[0m in \u001b[0;36mdrop\u001b[0;34m(self, labels, axis, index, columns, level, inplace, errors)\u001b[0m\n\u001b[1;32m   3109\u001b[0m         \u001b[0;32mfor\u001b[0m \u001b[0maxis\u001b[0m\u001b[0;34m,\u001b[0m \u001b[0mlabels\u001b[0m \u001b[0;32min\u001b[0m \u001b[0maxes\u001b[0m\u001b[0;34m.\u001b[0m\u001b[0mitems\u001b[0m\u001b[0;34m(\u001b[0m\u001b[0;34m)\u001b[0m\u001b[0;34m:\u001b[0m\u001b[0;34m\u001b[0m\u001b[0;34m\u001b[0m\u001b[0m\n\u001b[1;32m   3110\u001b[0m             \u001b[0;32mif\u001b[0m \u001b[0mlabels\u001b[0m \u001b[0;32mis\u001b[0m \u001b[0;32mnot\u001b[0m \u001b[0;32mNone\u001b[0m\u001b[0;34m:\u001b[0m\u001b[0;34m\u001b[0m\u001b[0;34m\u001b[0m\u001b[0m\n\u001b[0;32m-> 3111\u001b[0;31m                 \u001b[0mobj\u001b[0m \u001b[0;34m=\u001b[0m \u001b[0mobj\u001b[0m\u001b[0;34m.\u001b[0m\u001b[0m_drop_axis\u001b[0m\u001b[0;34m(\u001b[0m\u001b[0mlabels\u001b[0m\u001b[0;34m,\u001b[0m \u001b[0maxis\u001b[0m\u001b[0;34m,\u001b[0m \u001b[0mlevel\u001b[0m\u001b[0;34m=\u001b[0m\u001b[0mlevel\u001b[0m\u001b[0;34m,\u001b[0m \u001b[0merrors\u001b[0m\u001b[0;34m=\u001b[0m\u001b[0merrors\u001b[0m\u001b[0;34m)\u001b[0m\u001b[0;34m\u001b[0m\u001b[0;34m\u001b[0m\u001b[0m\n\u001b[0m\u001b[1;32m   3112\u001b[0m \u001b[0;34m\u001b[0m\u001b[0m\n\u001b[1;32m   3113\u001b[0m         \u001b[0;32mif\u001b[0m \u001b[0minplace\u001b[0m\u001b[0;34m:\u001b[0m\u001b[0;34m\u001b[0m\u001b[0;34m\u001b[0m\u001b[0m\n",
            "\u001b[0;32m/usr/local/lib/python3.6/dist-packages/pandas/core/generic.py\u001b[0m in \u001b[0;36m_drop_axis\u001b[0;34m(self, labels, axis, level, errors)\u001b[0m\n\u001b[1;32m   3141\u001b[0m                 \u001b[0mnew_axis\u001b[0m \u001b[0;34m=\u001b[0m \u001b[0maxis\u001b[0m\u001b[0;34m.\u001b[0m\u001b[0mdrop\u001b[0m\u001b[0;34m(\u001b[0m\u001b[0mlabels\u001b[0m\u001b[0;34m,\u001b[0m \u001b[0mlevel\u001b[0m\u001b[0;34m=\u001b[0m\u001b[0mlevel\u001b[0m\u001b[0;34m,\u001b[0m \u001b[0merrors\u001b[0m\u001b[0;34m=\u001b[0m\u001b[0merrors\u001b[0m\u001b[0;34m)\u001b[0m\u001b[0;34m\u001b[0m\u001b[0;34m\u001b[0m\u001b[0m\n\u001b[1;32m   3142\u001b[0m             \u001b[0;32melse\u001b[0m\u001b[0;34m:\u001b[0m\u001b[0;34m\u001b[0m\u001b[0;34m\u001b[0m\u001b[0m\n\u001b[0;32m-> 3143\u001b[0;31m                 \u001b[0mnew_axis\u001b[0m \u001b[0;34m=\u001b[0m \u001b[0maxis\u001b[0m\u001b[0;34m.\u001b[0m\u001b[0mdrop\u001b[0m\u001b[0;34m(\u001b[0m\u001b[0mlabels\u001b[0m\u001b[0;34m,\u001b[0m \u001b[0merrors\u001b[0m\u001b[0;34m=\u001b[0m\u001b[0merrors\u001b[0m\u001b[0;34m)\u001b[0m\u001b[0;34m\u001b[0m\u001b[0;34m\u001b[0m\u001b[0m\n\u001b[0m\u001b[1;32m   3144\u001b[0m             \u001b[0mresult\u001b[0m \u001b[0;34m=\u001b[0m \u001b[0mself\u001b[0m\u001b[0;34m.\u001b[0m\u001b[0mreindex\u001b[0m\u001b[0;34m(\u001b[0m\u001b[0;34m**\u001b[0m\u001b[0;34m{\u001b[0m\u001b[0maxis_name\u001b[0m\u001b[0;34m:\u001b[0m \u001b[0mnew_axis\u001b[0m\u001b[0;34m}\u001b[0m\u001b[0;34m)\u001b[0m\u001b[0;34m\u001b[0m\u001b[0;34m\u001b[0m\u001b[0m\n\u001b[1;32m   3145\u001b[0m \u001b[0;34m\u001b[0m\u001b[0m\n",
            "\u001b[0;32m/usr/local/lib/python3.6/dist-packages/pandas/core/indexes/base.py\u001b[0m in \u001b[0;36mdrop\u001b[0;34m(self, labels, errors)\u001b[0m\n\u001b[1;32m   4402\u001b[0m             \u001b[0;32mif\u001b[0m \u001b[0merrors\u001b[0m \u001b[0;34m!=\u001b[0m \u001b[0;34m'ignore'\u001b[0m\u001b[0;34m:\u001b[0m\u001b[0;34m\u001b[0m\u001b[0;34m\u001b[0m\u001b[0m\n\u001b[1;32m   4403\u001b[0m                 raise KeyError(\n\u001b[0;32m-> 4404\u001b[0;31m                     '{} not found in axis'.format(labels[mask]))\n\u001b[0m\u001b[1;32m   4405\u001b[0m             \u001b[0mindexer\u001b[0m \u001b[0;34m=\u001b[0m \u001b[0mindexer\u001b[0m\u001b[0;34m[\u001b[0m\u001b[0;34m~\u001b[0m\u001b[0mmask\u001b[0m\u001b[0;34m]\u001b[0m\u001b[0;34m\u001b[0m\u001b[0;34m\u001b[0m\u001b[0m\n\u001b[1;32m   4406\u001b[0m         \u001b[0;32mreturn\u001b[0m \u001b[0mself\u001b[0m\u001b[0;34m.\u001b[0m\u001b[0mdelete\u001b[0m\u001b[0;34m(\u001b[0m\u001b[0mindexer\u001b[0m\u001b[0;34m)\u001b[0m\u001b[0;34m\u001b[0m\u001b[0;34m\u001b[0m\u001b[0m\n",
            "\u001b[0;31mKeyError\u001b[0m: \"['loan_default'] not found in axis\""
          ]
        }
      ]
    }
  ]
}